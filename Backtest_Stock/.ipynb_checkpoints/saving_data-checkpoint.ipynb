{
 "cells": [
  {
   "cell_type": "code",
   "execution_count": 1,
   "id": "1586bd32",
   "metadata": {
    "ExecuteTime": {
     "end_time": "2022-11-14T14:50:37.265143Z",
     "start_time": "2022-11-14T14:50:37.231791Z"
    }
   },
   "outputs": [
    {
     "name": "stdout",
     "output_type": "stream",
     "text": [
      "3.8.12 (default, Oct 12 2021, 08:03:51) [MSC v.1916 32 bit (Intel)]\n"
     ]
    }
   ],
   "source": [
    "import sys\n",
    "print(sys.version)"
   ]
  },
  {
   "cell_type": "code",
   "execution_count": 2,
   "id": "e5ac476e",
   "metadata": {
    "ExecuteTime": {
     "end_time": "2022-11-14T14:50:53.538549Z",
     "start_time": "2022-11-14T14:50:52.064709Z"
    }
   },
   "outputs": [],
   "source": [
    "import win32com.client\n",
    "import time\n",
    "import shutil\n",
    "import os\n",
    "import codecs\n",
    "import pandas as pd\n",
    "import numpy as np\n",
    "from datetime import datetime\n",
    "from tqdm import tqdm\n",
    "# from pywinauto import application\n",
    "# from pywinauto import timings\n",
    "\n",
    "\n",
    "class CREON(object):\n",
    "    \"\"\"대신증권 크레온 API\"\"\"\n",
    "\n",
    "    def __init__(self):\n",
    "        # 연결 여부 체크\n",
    "        self.objCpCybos = win32com.client.Dispatch(\"CpUtil.CpCybos\")\n",
    "        bConnect = self.objCpCybos.IsConnect\n",
    "        if (bConnect == 0):\n",
    "            print(\"PLUS가 정상적으로 연결되지 않음. \")\n",
    "        else:\n",
    "#             print(\"정상적으로 연결되었음\")\n",
    "            pass\n",
    "\n",
    "    def setMethod(self, code, char, minutes=1, from_yyyymmdd=None, to_yyyymmdd=None, count=None):\n",
    "        \"\"\"\n",
    "        count는 보통 상식의 데이터 개수가 아니다.\n",
    "        여기서는 한번 요청 시 가져와지는 데이터의 개수이다.\n",
    "        한번 요청 시 최대 2856개 가능하다.\n",
    "\n",
    "        원하는 데이터 개수가 있으면 to_yyyymmdd 로 가져온 다음에 잘라서 사용한다.\n",
    "        하루에 분단위 데이터가 381개이다. (* 마지막 10분은 동시호가)\n",
    "\n",
    "        \"\"\"\n",
    "        # object 구하기\n",
    "        self.objStockChart = win32com.client.Dispatch(\"CpSysDib.StockChart\")\n",
    "        self.objStockChart.SetInputValue(0, code)  # 종목코드\n",
    "\n",
    "        if to_yyyymmdd:\n",
    "            self.objStockChart.SetInputValue(1, ord('1'))  # 요청 구분 '1': 기간, '2': 개수\n",
    "            self.objStockChart.SetInputValue(2, from_yyyymmdd)  # To 날짜\n",
    "            self.objStockChart.SetInputValue(3, to_yyyymmdd)  # From 날짜\n",
    "        elif count:\n",
    "            self.objStockChart.SetInputValue(1, ord('2'))  # 개수로 받기\n",
    "            self.objStockChart.SetInputValue(4, count)  # 조회 개수\n",
    "        else: \n",
    "            raise print(\"기간을 입력해주세요.\")\n",
    "\n",
    "        # 날짜, 시간,시가,고가,저가,종가,거래량\n",
    "        self.colnames = \"날짜, 시간, 시가, 고가, 저가, 종가, 거래량\".split(\", \")\n",
    "        self.objStockChart.SetInputValue(5, [0, 1, 2, 3, 4, 5, 8])\n",
    "        # 날짜,시가,고가,저가,종가,거래량, 거래대금, 상장주식수, 시가총액, 외국인현보유수량, 기관순매수\n",
    "#         self.colnames = \"날짜, 시가, 고가, 저가, 종가, 거래량, 거래대금, 상장주식수, 시가총액, 외국인현보유수량, 기관순매수\".split(\", \")\n",
    "#         self.objStockChart.SetInputValue(5, [0, 2, 3, 4, 5, 8, 9, 12, 13, 16, 20])\n",
    "\n",
    "        self.objStockChart.SetInputValue(6, ord(char))  # '차트 주기 - 분/틱 # # 'D', m'\n",
    "        if char == \"m\":\n",
    "            self.objStockChart.SetInputValue(7, minutes)  # 분틱차트 주기 ## 1분은 1로\n",
    "\n",
    "        self.objStockChart.SetInputValue(9, ord('1'))  # 수정주가 사용\n",
    "\n",
    "        self.data = {i: [] for i in self.colnames}\n",
    "\n",
    "    def checkRequest(self):\n",
    "        self.objStockChart.BlockRequest()\n",
    "        rqStatus = self.objStockChart.GetDibStatus()\n",
    "        if rqStatus != 0: \n",
    "            return False\n",
    "        self.count = self.objStockChart.GetHeaderValue(3)\n",
    "        if self.count <= 1: \n",
    "            return False\n",
    "        return int(self.count)\n",
    "\n",
    "    def checkRemainTime(self):\n",
    "        # 연속 요청 가능 여부 체크\n",
    "        remainTime = self.objCpCybos.LimitRequestRemainTime / 1000.\n",
    "        remainCount = self.objCpCybos.GetLimitRemainCount(1)  # 시세 제한\n",
    "#         print(\"남은시간: \",remainTime, \" 남은개수: \", remainCount)\n",
    "        if remainCount <= 0:\n",
    "#             print(\"15초당 60건으로 제한합니다.\")\n",
    "            time.sleep(remainTime)\n",
    "\n",
    "\n",
    "    def getStockPriceMin(self):\n",
    "        while 1:\n",
    "            self.checkRemainTime()\n",
    "            rows = self.checkRequest()\n",
    "            if rows:\n",
    "                for i in range(rows):\n",
    "                    for idx, col in enumerate(self.colnames):\n",
    "                        self.data[col].append(self.objStockChart.GetDataValue(idx, i))\n",
    "            else:\n",
    "                break\n",
    "        self.data = pd.DataFrame(self.data).astype('str')\n",
    "        return self.data"
   ]
  },
  {
   "cell_type": "code",
   "execution_count": 12,
   "id": "b5616265",
   "metadata": {
    "ExecuteTime": {
     "end_time": "2022-11-14T03:30:39.299346Z",
     "start_time": "2022-11-14T03:30:39.179456Z"
    }
   },
   "outputs": [
    {
     "name": "stdout",
     "output_type": "stream",
     "text": [
      "정상적으로 연결되었음\n",
      "남은시간:  0.0  남은개수:  60\n",
      "남은시간:  14.984  남은개수:  59\n",
      "---------name : 삼성전자 요청은 완료됬습니다.\n"
     ]
    }
   ],
   "source": [
    "code = 'A005930'\n",
    "name='삼성전자'\n",
    "creon = CREON()\n",
    "#creon.setMethod(code=code, char=\"m\", minutes=2, to_yyyymmdd=20200519,from_yyyymmdd=20200520)\n",
    "creon.setMethod(code=code, char=\"D\", to_yyyymmdd=20200519,from_yyyymmdd=20200520)\n",
    "getStockPrice = creon.getStockPriceMin()\n",
    "print('---------name : {} 요청은 완료됬습니다.'.format(name))"
   ]
  },
  {
   "cell_type": "code",
   "execution_count": 4,
   "id": "6c2f20b9",
   "metadata": {
    "ExecuteTime": {
     "end_time": "2022-11-14T14:52:09.283765Z",
     "start_time": "2022-11-14T14:52:09.265648Z"
    }
   },
   "outputs": [
    {
     "data": {
      "text/plain": [
       "'000060'"
      ]
     },
     "execution_count": 4,
     "metadata": {},
     "output_type": "execute_result"
    }
   ],
   "source": [
    "list_existing = os.listdir('./data/1m/')\n",
    "list_existing[0][1:7]"
   ]
  },
  {
   "cell_type": "code",
   "execution_count": null,
   "id": "e137f063",
   "metadata": {},
   "outputs": [],
   "source": []
  },
  {
   "cell_type": "code",
   "execution_count": 38,
   "id": "19cbde3c",
   "metadata": {
    "ExecuteTime": {
     "end_time": "2022-11-14T04:18:57.101598Z",
     "start_time": "2022-11-14T04:18:57.083103Z"
    }
   },
   "outputs": [],
   "source": [
    "# import FinanceDataReader as fdr\n",
    "# a = fdr.StockListing('KRX')\n",
    "# aa = a[(a.Market=='KOSPI')|(a.Market=='KOSDAQ')]\n",
    "list_code = aa.Code"
   ]
  },
  {
   "cell_type": "code",
   "execution_count": 6,
   "id": "22f1b1b8",
   "metadata": {
    "ExecuteTime": {
     "end_time": "2022-11-14T14:53:51.618243Z",
     "start_time": "2022-11-14T14:53:51.610273Z"
    }
   },
   "outputs": [],
   "source": [
    "list_existing = os.listdir('./data/1m/')\n",
    "list_existing = [ext[1:7] for ext in list_existing]"
   ]
  },
  {
   "cell_type": "code",
   "execution_count": null,
   "id": "0734ae63",
   "metadata": {
    "ExecuteTime": {
     "start_time": "2022-11-14T07:21:37.901Z"
    }
   },
   "outputs": [
    {
     "name": "stderr",
     "output_type": "stream",
     "text": [
      " 16%|███████▉                                          | 406/2545 [1:45:50<9:15:16, 15.58s/it]"
     ]
    }
   ],
   "source": [
    "# code = 'A000660'\n",
    "for code_ in tqdm(list_code):\n",
    "    if code in list_existing:\n",
    "        continue\n",
    "    code =f'A{code_}'\n",
    "# name='삼성전자'\n",
    "    try:\n",
    "        creon = CREON()\n",
    "        creon.setMethod(code=code, char=\"m\", minutes=1, to_yyyymmdd=20150101,from_yyyymmdd=20221113)\n",
    "        #creon.setMethod(code=code, char=\"D\", to_yyyymmdd=20200519,from_yyyymmdd=20200520)\n",
    "        getStockPrice = creon.getStockPriceMin()\n",
    "    # print('---------name : {} 요청은 완료됬습니다.'.format(name))\n",
    "        getStockPrice.to_csv(f'./data/1m/{code}.csv')\n",
    "    except:\n",
    "        pass"
   ]
  },
  {
   "cell_type": "code",
   "execution_count": 34,
   "id": "37aa2ed9",
   "metadata": {
    "ExecuteTime": {
     "end_time": "2022-11-14T04:12:52.222840Z",
     "start_time": "2022-11-14T04:12:52.185934Z"
    }
   },
   "outputs": [
    {
     "data": {
      "text/html": [
       "<div>\n",
       "<style scoped>\n",
       "    .dataframe tbody tr th:only-of-type {\n",
       "        vertical-align: middle;\n",
       "    }\n",
       "\n",
       "    .dataframe tbody tr th {\n",
       "        vertical-align: top;\n",
       "    }\n",
       "\n",
       "    .dataframe thead th {\n",
       "        text-align: right;\n",
       "    }\n",
       "</style>\n",
       "<table border=\"1\" class=\"dataframe\">\n",
       "  <thead>\n",
       "    <tr style=\"text-align: right;\">\n",
       "      <th></th>\n",
       "      <th>날짜</th>\n",
       "      <th>시간</th>\n",
       "      <th>시가</th>\n",
       "      <th>고가</th>\n",
       "      <th>저가</th>\n",
       "      <th>종가</th>\n",
       "      <th>거래량</th>\n",
       "    </tr>\n",
       "  </thead>\n",
       "  <tbody>\n",
       "    <tr>\n",
       "      <th>0</th>\n",
       "      <td>20221111</td>\n",
       "      <td>1530</td>\n",
       "      <td>93500</td>\n",
       "      <td>93500</td>\n",
       "      <td>93500</td>\n",
       "      <td>93500</td>\n",
       "      <td>235934</td>\n",
       "    </tr>\n",
       "    <tr>\n",
       "      <th>1</th>\n",
       "      <td>20221111</td>\n",
       "      <td>1520</td>\n",
       "      <td>93600</td>\n",
       "      <td>93700</td>\n",
       "      <td>93500</td>\n",
       "      <td>93600</td>\n",
       "      <td>121446</td>\n",
       "    </tr>\n",
       "    <tr>\n",
       "      <th>2</th>\n",
       "      <td>20221111</td>\n",
       "      <td>1510</td>\n",
       "      <td>93700</td>\n",
       "      <td>93800</td>\n",
       "      <td>93600</td>\n",
       "      <td>93600</td>\n",
       "      <td>53128</td>\n",
       "    </tr>\n",
       "    <tr>\n",
       "      <th>3</th>\n",
       "      <td>20221111</td>\n",
       "      <td>1500</td>\n",
       "      <td>93600</td>\n",
       "      <td>93800</td>\n",
       "      <td>93500</td>\n",
       "      <td>93700</td>\n",
       "      <td>111303</td>\n",
       "    </tr>\n",
       "    <tr>\n",
       "      <th>4</th>\n",
       "      <td>20221111</td>\n",
       "      <td>1450</td>\n",
       "      <td>93600</td>\n",
       "      <td>93700</td>\n",
       "      <td>93400</td>\n",
       "      <td>93600</td>\n",
       "      <td>125543</td>\n",
       "    </tr>\n",
       "    <tr>\n",
       "      <th>...</th>\n",
       "      <td>...</td>\n",
       "      <td>...</td>\n",
       "      <td>...</td>\n",
       "      <td>...</td>\n",
       "      <td>...</td>\n",
       "      <td>...</td>\n",
       "      <td>...</td>\n",
       "    </tr>\n",
       "    <tr>\n",
       "      <th>48707</th>\n",
       "      <td>20171017</td>\n",
       "      <td>950</td>\n",
       "      <td>85700</td>\n",
       "      <td>86000</td>\n",
       "      <td>85400</td>\n",
       "      <td>85600</td>\n",
       "      <td>170357</td>\n",
       "    </tr>\n",
       "    <tr>\n",
       "      <th>48708</th>\n",
       "      <td>20171017</td>\n",
       "      <td>940</td>\n",
       "      <td>86300</td>\n",
       "      <td>86500</td>\n",
       "      <td>85600</td>\n",
       "      <td>85700</td>\n",
       "      <td>211110</td>\n",
       "    </tr>\n",
       "    <tr>\n",
       "      <th>48709</th>\n",
       "      <td>20171017</td>\n",
       "      <td>930</td>\n",
       "      <td>86000</td>\n",
       "      <td>86600</td>\n",
       "      <td>86000</td>\n",
       "      <td>86400</td>\n",
       "      <td>481969</td>\n",
       "    </tr>\n",
       "    <tr>\n",
       "      <th>48710</th>\n",
       "      <td>20171017</td>\n",
       "      <td>920</td>\n",
       "      <td>85400</td>\n",
       "      <td>86200</td>\n",
       "      <td>85100</td>\n",
       "      <td>86000</td>\n",
       "      <td>342267</td>\n",
       "    </tr>\n",
       "    <tr>\n",
       "      <th>48711</th>\n",
       "      <td>20171017</td>\n",
       "      <td>910</td>\n",
       "      <td>85700</td>\n",
       "      <td>86300</td>\n",
       "      <td>85400</td>\n",
       "      <td>85500</td>\n",
       "      <td>771908</td>\n",
       "    </tr>\n",
       "  </tbody>\n",
       "</table>\n",
       "<p>48712 rows × 7 columns</p>\n",
       "</div>"
      ],
      "text/plain": [
       "             날짜    시간     시가     고가     저가     종가     거래량\n",
       "0      20221111  1530  93500  93500  93500  93500  235934\n",
       "1      20221111  1520  93600  93700  93500  93600  121446\n",
       "2      20221111  1510  93700  93800  93600  93600   53128\n",
       "3      20221111  1500  93600  93800  93500  93700  111303\n",
       "4      20221111  1450  93600  93700  93400  93600  125543\n",
       "...         ...   ...    ...    ...    ...    ...     ...\n",
       "48707  20171017   950  85700  86000  85400  85600  170357\n",
       "48708  20171017   940  86300  86500  85600  85700  211110\n",
       "48709  20171017   930  86000  86600  86000  86400  481969\n",
       "48710  20171017   920  85400  86200  85100  86000  342267\n",
       "48711  20171017   910  85700  86300  85400  85500  771908\n",
       "\n",
       "[48712 rows x 7 columns]"
      ]
     },
     "execution_count": 34,
     "metadata": {},
     "output_type": "execute_result"
    }
   ],
   "source": []
  }
 ],
 "metadata": {
  "kernelspec": {
   "display_name": "Python 3 (ipykernel)",
   "language": "python",
   "name": "python3"
  },
  "language_info": {
   "codemirror_mode": {
    "name": "ipython",
    "version": 3
   },
   "file_extension": ".py",
   "mimetype": "text/x-python",
   "name": "python",
   "nbconvert_exporter": "python",
   "pygments_lexer": "ipython3",
   "version": "3.8.12"
  },
  "toc": {
   "base_numbering": 1,
   "nav_menu": {},
   "number_sections": true,
   "sideBar": true,
   "skip_h1_title": false,
   "title_cell": "Table of Contents",
   "title_sidebar": "Contents",
   "toc_cell": false,
   "toc_position": {},
   "toc_section_display": true,
   "toc_window_display": false
  }
 },
 "nbformat": 4,
 "nbformat_minor": 5
}
