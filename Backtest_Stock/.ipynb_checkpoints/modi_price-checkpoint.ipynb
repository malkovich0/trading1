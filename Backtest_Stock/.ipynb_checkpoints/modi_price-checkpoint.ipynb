{
 "cells": [
  {
   "cell_type": "code",
   "execution_count": null,
   "id": "4ada7854",
   "metadata": {},
   "outputs": [],
   "source": [
    "import pandas as pd\n",
    "import numpy as np\n",
    "from datetime import datetime\n",
    "from collections import defaultdict\n",
    "from datetime import timedelta\n",
    "pd.options.display.float_format = '{:.3f}'.format\n",
    "np.set_printoptions(precision=3, suppress=True)"
   ]
  },
  {
   "cell_type": "code",
   "execution_count": null,
   "id": "7b41b5e6",
   "metadata": {},
   "outputs": [],
   "source": [
    "def find_empty(list_temp, day):\n",
    "    ar_time_temp = np.array([index_to_time(i) for i in range(1,79) if index_to_time(i) not in list_temp])\n",
    "    return ar_time_temp + day*10000\n",
    "\n",
    "def time_to_index(time):\n",
    "    return ((time-900)//100)*12 + ((time%100)//5)\n",
    "def index_to_time(ind):\n",
    "    return 900 + (ind//12)*100 + (ind%12)*5\n",
    "\n",
    "def reading_csv(file_name, datetime_start, datetime_end):\n",
    "    file = pd.read_csv(file_name, index_col=0)\n",
    "    file.sort_values(by='date', ascending=True, inplace=True)\n",
    "    file = file[(file['date'] >= int((datetime_start - relativedelta(days=1)).strftime('%Y%m%d%H%M'))) & (\n",
    "                file['date'] <= int(datetime_end.strftime('%Y%m%d%H%M')))]\n",
    "    file['code_stock'] = str(file_name)[-10:-4]\n",
    "#     if len(file)%79 == 0:\n",
    "    return file[['date','time','open','high','low','close','volume','value','code_stock']]\n",
    "#     else:\n",
    "#         return None\n",
    "\n",
    "def reading_csv_int(file_name, datetime_start, datetime_end):\n",
    "    file = pd.read_csv(file_name, index_col=0)\n",
    "    file.sort_values(by='date', ascending=True, inplace=True)\n",
    "    file = file[(file['date'] >= datetime_start) & (\n",
    "                file['date'] <= datetime_end)]\n",
    "    file['code_stock'] = str(file_name)[-10:-4]\n",
    "#     if len(file)%79 == 0:\n",
    "    return file[['date','time','open','high','low','close','volume','value','code_stock']]"
   ]
  },
  {
   "cell_type": "code",
   "execution_count": null,
   "id": "755f620a",
   "metadata": {},
   "outputs": [],
   "source": [
    "files = Path(\"./data/5m/\").rglob(\"*.csv\")\n",
    "files = [str(i)[-10:-4] for i in files if str(i)[-5] == '0' ]"
   ]
  },
  {
   "cell_type": "code",
   "execution_count": null,
   "id": "54fe23a7",
   "metadata": {},
   "outputs": [],
   "source": [
    "for file in tqdm(files]):\n",
    "# file = '000140'\n",
    "    data = reading_csv(f'./data/5m/A{file}.csv', date_start, date_end)\n",
    "    # 3:30 이후에 끝나는 경우는 3:30에 끝나는 걸로 조정.\n",
    "    array_date = np.array(data['date'], dtype='int64')\n",
    "    array_day = np.array([int(str(i)[:8]) for i in array_date], dtype='int64')\n",
    "    array_time = np.array([int(str(i)[8:]) for i in array_date], dtype='int64')\n",
    "    array_open = np.array(data['open'])\n",
    "    array_high = np.array(data['high'])\n",
    "    array_low = np.array(data['low'])\n",
    "    array_close = np.array(data['close'])\n",
    "    array_volume = np.array(data['volume'])\n",
    "    array_value = np.array(data['value'])\n",
    "    uni, loc = np.unique(array_day, axis=0, return_inverse=True)\n",
    "    array_time_ind = np.array([time_to_index(i) for i in array_time])\n",
    "    ar_above_ind = loc[array_time_ind > 78]  #여기 나온 숫자들을 index로 하여 loc에서 같은 index를 가지는 값들은 전부 array_time 수정 - 12 ind.\n",
    "    loc_value_modi = np.unique(ar_above_ind)\n",
    "    for i in loc_value_modi:\n",
    "        array_time[loc==i] = [index_to_time(time_to_index(time)-12) for time in array_time[loc==i]]\n",
    "    array_date = array_day*10000 + array_time\n",
    "\n",
    "    # index가 비어있는 경우 직전 close로 값 다 적고 value, volume은 0으로\n",
    "    uni, loc = np.unique(array_day, axis=0, return_inverse=True)\n",
    "\n",
    "    ar_raw = np.array([array_date, array_time, array_open, array_high, array_low, array_close, array_volume, array_value]).T\n",
    "\n",
    "    empty_list = [find_empty(list(array_time[loc==j]), uni[j])  for j in range(len(uni))]\n",
    "    if len(empty_list)>0:\n",
    "        ar_empty_date = np.concatenate(empty_list)\n",
    "        ar_empty_date = ar_empty_date[ar_empty_date>array_date[0]]\n",
    "        ar_empty_price = np.array([array_close[array_date<date_empty][-1] for date_empty in ar_empty_date])\n",
    "        ar_empty_volume = np.zeros(len(ar_empty_date))\n",
    "        ar_empty_time = np.array([int(float(str(i)[8:])) for i in ar_empty_date])\n",
    "        ar_empty = np.array([ar_empty_date, ar_empty_time, ar_empty_price, ar_empty_price, ar_empty_price, ar_empty_price, ar_empty_volume, ar_empty_volume]).T\n",
    "        ar_all = np.concatenate([ar_raw, ar_empty], axis=0)\n",
    "    else:\n",
    "        ar_all = ar_raw\n",
    "#     ar_all = np.concatenate([ar_raw, ar_empty], axis=0)\n",
    "    ar_all = ar_all.astype('int64')\n",
    "    df_all = pd.DataFrame(ar_all, columns=['date','time','open','high','low','close','volume','value'])\n",
    "    df_all.sort_values(by=['date'], ascending=True, inplace=True)\n",
    "    df_all.reset_index(drop=True, inplace=True)\n",
    "    df_all.to_csv(f'./data/5m_modi/A{file}.csv')"
   ]
  }
 ],
 "metadata": {
  "kernelspec": {
   "display_name": "Python 3 (ipykernel)",
   "language": "python",
   "name": "python3"
  },
  "language_info": {
   "codemirror_mode": {
    "name": "ipython",
    "version": 3
   },
   "file_extension": ".py",
   "mimetype": "text/x-python",
   "name": "python",
   "nbconvert_exporter": "python",
   "pygments_lexer": "ipython3",
   "version": "3.8.12"
  },
  "toc": {
   "base_numbering": 1,
   "nav_menu": {},
   "number_sections": true,
   "sideBar": true,
   "skip_h1_title": false,
   "title_cell": "Table of Contents",
   "title_sidebar": "Contents",
   "toc_cell": false,
   "toc_position": {},
   "toc_section_display": true,
   "toc_window_display": false
  }
 },
 "nbformat": 4,
 "nbformat_minor": 5
}
