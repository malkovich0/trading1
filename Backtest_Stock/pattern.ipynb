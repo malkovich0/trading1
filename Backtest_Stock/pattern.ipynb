{
 "cells": [
  {
   "cell_type": "code",
   "execution_count": 3,
   "id": "efa311ce",
   "metadata": {
    "ExecuteTime": {
     "end_time": "2023-01-13T07:15:40.159585Z",
     "start_time": "2023-01-13T07:15:39.132945Z"
    }
   },
   "outputs": [],
   "source": [
    "import pandas as pd\n",
    "import numpy as np\n",
    "from scipy.signal import argrelextrema\n",
    "from datetime import datetime\n",
    "import mplfinance as mpf\n",
    "from collections import defaultdict\n",
    "from datetime import timedelta\n",
    "from Backtest_source import *\n",
    "import talib as ta\n",
    "import shutil\n",
    "from sklearn.cluster import KMeans\n",
    "from sklearn.linear_model import LinearRegression\n",
    "from tslearn.clustering import TimeSeriesKMeans\n",
    "\n",
    "pd.options.display.float_format = '{:.3f}'.format\n",
    "np.set_printoptions(precision=3, suppress=True)"
   ]
  },
  {
   "cell_type": "markdown",
   "id": "ec6bc289",
   "metadata": {},
   "source": [
    "# Manual Extreme"
   ]
  },
  {
   "cell_type": "code",
   "execution_count": 16,
   "id": "0df8e517",
   "metadata": {
    "ExecuteTime": {
     "end_time": "2022-12-26T13:42:59.795016Z",
     "start_time": "2022-12-26T13:42:59.757193Z"
    },
    "code_folding": [
     0
    ]
   },
   "outputs": [],
   "source": [
    "class Strategy_Volatility_new(Strategy):\n",
    "    def __init__(self, data_hr, strategy_list=['base']):\n",
    "#         self.data_d = data_d\n",
    "        self.data_hr = data_hr\n",
    "#         self.run_time = run_time\n",
    "#         self.name = name\n",
    "        self.strategy_list = strategy_list\n",
    "#         self.trading_fee = trading_fee\n",
    "        self.list_variable = list(data_hr.columns)\n",
    "#         self.run_time = datetime.now().strftime(\"%Y%m%d%H%M\")\n",
    "\n",
    "    def input_signal_pat(self, data):\n",
    "        data.reset_index(drop=True, inplace=True)\n",
    "        array_day = np.array([int(str(i)[:8]) for i in data['date']])\n",
    "        array_time = np.array([int(str(i)[8:]) for i in data['date']])\n",
    "\n",
    "        smoothing = 10\n",
    "        extreme = 3\n",
    "#        data.index = [datetime.strptime(str(i),'%Y%m%d%H%M') for i in data.date]\n",
    "        data = add_extreme(data, smoothing, extreme)\n",
    "#         print(data)\n",
    "        index_pat = find_pattern(data)\n",
    "#         print(index_pat)\n",
    "        data.loc[index_pat, ['buy_signal']] = 1\n",
    "        data['buy_signal'] = np.where(data['buy_signal'].shift(extreme+1)==1, 1, 0)\n",
    "#         data['sell_signal'] = np.where(array_time == 1530, 1, 0)\n",
    "        data['sell_signal'] = data['buy_signal'].shift(12)\n",
    "        data['sell_signal'] = np.where((data['buy_signal']==1)|(array_time==1530), 1, 0)\n",
    "        data['open_adj'] = data['open']\n",
    "        data['close_adj'] = data['close']\n",
    "\n",
    "        return data[['date','code_stock','open','high','low','close','open_adj','close_adj','buy_signal','sell_signal']].to_numpy().astype(np.int64)\n",
    "\n",
    "\n",
    "    def output_status(self, data):\n",
    "        array_status = np.where(np.roll(data[:,9], 1)==1, 0, np.where(data[:,8]==1, 1, np.nan))\n",
    "        array_status_fill = fill_nan_with_last(array_status)\n",
    "        return np.c_[data, array_status_fill.reshape(-1,1)]\n",
    "\n",
    "    def cal_return(self, data):\n",
    "        data[:,6] = np.where((data[:,10]==1)&(np.roll(data[:,10], 1)==0), data[:,6], data[:,2])\n",
    "        data[:,7] = np.where((data[:,10]==1)&(np.roll(data[:,10], -1)==0), data[:,7], data[:,5])\n",
    "        return data\n",
    "\n",
    "      \n",
    "    def calculate(self, run_time):\n",
    "        data_raw = self.data_hr\n",
    "        self.run_time = run_time\n",
    "        for strategy in self.strategy_list:\n",
    "            if 'total' in strategy:\n",
    "                if 'pat' in strategy:\n",
    "                    data_raw = self.input_signal_pat(data_raw)\n",
    "#                     self.data_temp = data_raw\n",
    "#                     print(data_raw)\n",
    "                    data_raw = self.output_status(data_raw)\n",
    "#                     self.data_temp2 = data_raw\n",
    "#                     print(data_raw)\n",
    "                    data_hr = self.cal_return(data_raw)\n",
    "#                     print(data_hr)\n",
    "        from_file_path = './Cal.ipynb' # 복사할 파일\n",
    "        to_file_path = f'./result/{self.run_time}_code.ipynb' # 복사 위치 및 파일 이름 지정\n",
    "        shutil.copyfile(from_file_path, to_file_path)\n",
    "        return data_hr"
   ]
  },
  {
   "cell_type": "code",
   "execution_count": 20,
   "id": "db540c86",
   "metadata": {
    "ExecuteTime": {
     "end_time": "2022-12-26T13:49:49.751942Z",
     "start_time": "2022-12-26T13:49:46.025544Z"
    }
   },
   "outputs": [],
   "source": [
    "date_start = datetime(2017,1,1,9)\n",
    "date_end = datetime(2022,1,1,9)\n",
    "stock_code = ['000220']\n",
    "# stock_code = ['000220','000660']\n",
    "case2 = Backtest_Stocks(date_start,date_end,stock_code,timeframe='minute5',option='pd')\n",
    "case2.input_strategy(Strategy_Volatility_new,[f'total, pat'])\n",
    "case2.trading_fee = 0.2\n",
    "# name = 'dip'\n",
    "case2.cal_strategy('pat')\n",
    "\n",
    "df_all = case2.analyze_result_time1(name='pat',max_profit=True)\n",
    "# summarize_result(df_all)"
   ]
  },
  {
   "cell_type": "code",
   "execution_count": 18,
   "id": "26cd6f57",
   "metadata": {
    "ExecuteTime": {
     "end_time": "2022-12-26T13:43:40.786667Z",
     "start_time": "2022-12-26T13:43:40.774451Z"
    }
   },
   "outputs": [
    {
     "data": {
      "text/plain": [
       "'승률 : 15.40, 손익비 : 0.86  / 1266 (-0.22) / 195 (0.26) / 1071 (-0.30)'"
      ]
     },
     "execution_count": 18,
     "metadata": {},
     "output_type": "execute_result"
    }
   ],
   "source": [
    "summarize_result(df_all)\n",
    "# plot_trade(df_all[374])"
   ]
  },
  {
   "cell_type": "code",
   "execution_count": 3,
   "id": "7e1f7442",
   "metadata": {
    "ExecuteTime": {
     "end_time": "2023-01-04T01:09:47.025388Z",
     "start_time": "2023-01-04T01:09:46.882811Z"
    },
    "code_folding": [
     0,
     9,
     57,
     68,
     72,
     98
    ]
   },
   "outputs": [],
   "source": [
    "def summarize_result(df_all):\n",
    "    return_all = df_all[:,2]\n",
    "    count = len(return_all)\n",
    "    cnt_p = len(return_all[return_all>0])\n",
    "    cnt_n = len(return_all[return_all<0])\n",
    "    rtn_p = return_all[return_all>0].mean()\n",
    "    rtn_n = return_all[return_all<0].mean()\n",
    "    result = f'승률 : {cnt_p/count*100:.2f}, 손익비 : {-rtn_p/rtn_n:.2f}  / {count} ({return_all.mean()*100:.2f}) / {cnt_p} ({rtn_p*100:.2f}) / {cnt_n} ({rtn_n*100:.2f})'\n",
    "    return result\n",
    "def plot_trade(result_trade, save=False, timeframe='5m'):\n",
    "    if timeframe == '5m':\n",
    "        count_per_day = 79\n",
    "        file_loc = './data/5m'\n",
    "    elif timeframe == '1m':\n",
    "        count_per_day = 399\n",
    "        file_loc = './data/1m'\n",
    "    \n",
    "    code_coin = str(int(result_trade[3])).zfill(6)\n",
    "    datetime_start = datetime.strptime(str(int(result_trade[0])),'%Y%m%d%H%M')\n",
    "    date_start = datetime_start.replace(hour=9, minute=0)\n",
    "    date_end = datetime_start.replace(hour=15, minute=30)\n",
    "    datetime_end = datetime.strptime(str(int(result_trade[1])),'%Y%m%d%H%M')\n",
    "    file_name = f'{file_loc}/A{code_coin}.csv'\n",
    "    file = pd.read_csv(file_name, index_col=0)\n",
    "    file.sort_values(by='date', ascending=True, inplace=True)\n",
    "    file.reset_index(inplace=True,drop=True)\n",
    "    file.index = list(file.index)\n",
    "    first_index = file.index[(file['date']==int(result_trade[0]))][0]\n",
    "    last_index = file.index[(file['date']==int(result_trade[1]))][0]\n",
    "    file = file.iloc[first_index-count_per_day:last_index+count_per_day]\n",
    "    file.index = [datetime.strptime(str(i),'%Y%m%d%H%M') for i in file.date]\n",
    "\n",
    "    data = file[['open','high','low','close','volume']]\n",
    "    file.loc[datetime_start, ['buy']] = result_trade[4]\n",
    "    file.loc[datetime_end, ['sell']] = result_trade[5]\n",
    "    buy_marker = mpf.make_addplot(file['buy'] , type='scatter', marker='>', markersize=10, panel=0)\n",
    "    sell_marker = mpf.make_addplot(file['sell'] , type='scatter', marker='<', markersize=10, panel=0)\n",
    "    rsi = ta.RSI(file['high']-file['close'], timeperiod=12)\n",
    "    rsi_line = mpf.make_addplot(rsi)\n",
    "    addplot = [buy_marker, sell_marker]\n",
    "# ta.\n",
    "    vlines = dict(vlines=[date_start,date_end],linewidths=(1,1), alpha=0.5)\n",
    "    fb_color = 'b' if result_trade[4] < result_trade[5] else 'r'\n",
    "    fb_range = dict(y1=result_trade[4], y2=result_trade[5], color=fb_color, alpha=0.2)\n",
    "\n",
    "#     if save:\n",
    "    savefile_name = f'./result/picture/{datetime.now().strftime(\"%Y%m%d%H%M\")}_{code_coin}_{int(result_trade[0])}.png'\n",
    "#         mpf.plot(data, type='candle', style='yahoo', addplot=addplot, title=f'{code_coin}', volume=True, vlines=dict(vlines=[date_start,date_end],linewidths=(1,1)),savefig=savefile_name, figscale=0.7, fill_between=dict(y1=result_trade[4], y2=result_trade[5]))\n",
    "#     else:\n",
    "#         mpf.plot(data, type='candle', style='yahoo', addplot=addplot, title=f'{code_coin}', volume=True, vlines=vlines, fill_between=fb_range)\n",
    "    fig, axes = mpf.plot(data, type='candle', style='yahoo', addplot=addplot,  volume=True, vlines=vlines, fill_between=fb_range, returnfig=True)\n",
    "#     axes[0].legend('aa')\n",
    "    axes[0].set_title(f'{code_coin}')\n",
    "    if save:\n",
    "        fig.savefig(savefile_name)\n",
    "    else:\n",
    "        fig.show()\n",
    "def add_extreme(data, smoothing, extreme):\n",
    "    data['tuned_price'] = ta.EMA(data['high'], smoothing)\n",
    "#     data['tuned_price'] = ta.EMA((data['high']+data['low']+data['close'])*data['volume'], smoothing)\n",
    "\n",
    "    #     data['close'].rolling(window=smoothing).mean()\n",
    "    n = extreme  # number of points to be checked before and after\n",
    "\n",
    "    data['ex_min'] = data.iloc[argrelextrema(data.tuned_price.values, np.less_equal, order=n)[0]]['tuned_price']\n",
    "    data['ex_max'] = data.iloc[argrelextrema(data.tuned_price.values, np.greater_equal, order=n)[0]]['tuned_price']\n",
    "    data['ex'] = np.where(np.isnan(data['ex_min']), data['ex_max'], data['ex_min'])\n",
    "    return data\n",
    "def unique_seq(ar):\n",
    "    _, ar_loc, ar_count = np.unique(ar, axis=0, return_inverse=True, return_counts=True)\n",
    "    _, index = np.unique(ar_loc, return_index=True)\n",
    "    return np.array([ar_count[ar_loc[i]] for i in np.sort(index)])\n",
    "def find_pattern(data):  \n",
    "    patterns = defaultdict(list)\n",
    "    max_min = data['ex'].dropna()\n",
    "\n",
    "    # Window range is 5 units\n",
    "    for i in range(5, len(max_min)):  \n",
    "        window = max_min.iloc[i-5:i]\n",
    "        if np.busday_count(data.loc[window.index[0], 'date'], data.loc[window.index[-1], 'date']) >= 10000:\n",
    "#             print(data.loc[window.index[0], 'date'], data.loc[window.index[-1], 'date'])\n",
    "            #         if window.index[-1] - window.index[0] > 100: #100:      \n",
    "            continue   \n",
    "            \n",
    "        a, b, c, d, e = window.iloc[0:5]\n",
    "        \n",
    "        # IHS\n",
    "        cond_IHS1 = a < b\n",
    "        cond_IHS2 = (c<a)&(c<e)&(c<d)&(e<d)\n",
    "        cond_IHS3 = (abs(a-e)<=np.mean([a,e])*0.03)&(abs(b-d)<=np.mean([b,d])*0.03)\n",
    "        if cond_IHS1&cond_IHS2&cond_IHS3:\n",
    "#             patterns['IHS'].append((window.index[0], window.index[-1]))\n",
    "            patterns['IHS'].append(window.index[-1])\n",
    "        # IHS\n",
    "#         if a<b and c<a and c<e and c<d and e<d and abs(b-d)<=np.mean([b,d])*0.02:\n",
    "#             patterns['IHS'].append((window.index[0], window.index[-1]))\n",
    "        \n",
    "    return patterns['IHS']\n",
    "def fill_nan_with_last(arr):\n",
    "    prev = np.arange(len(arr))\n",
    "    prev[np.isnan(arr)] = 0\n",
    "    prev = np.maximum.accumulate(prev)\n",
    "    return arr[prev]"
   ]
  },
  {
   "cell_type": "markdown",
   "id": "4f531c91",
   "metadata": {},
   "source": [
    "# Sklearn clustering"
   ]
  },
  {
   "cell_type": "code",
   "execution_count": 7,
   "id": "8d320d51",
   "metadata": {
    "ExecuteTime": {
     "end_time": "2023-01-13T07:20:01.357918Z",
     "start_time": "2023-01-13T07:20:01.347709Z"
    }
   },
   "outputs": [],
   "source": [
    "def index_to_time(ind):\n",
    "    return 900 + (ind//12)*100 + (ind%12)*5\n",
    "def time_to_index(time):\n",
    "    return ((time-900)//100)*12 + ((time%100)//5)"
   ]
  },
  {
   "cell_type": "code",
   "execution_count": 4,
   "id": "f4e7cdab",
   "metadata": {
    "ExecuteTime": {
     "end_time": "2023-01-13T07:16:00.367921Z",
     "start_time": "2023-01-13T07:16:00.302696Z"
    }
   },
   "outputs": [],
   "source": [
    "files = Path(\"./data/5m_modi/\").rglob(\"*.csv\")\n",
    "files = [str(i)[-10:-4] for i in files if str(i)[-5] == '0' ]"
   ]
  },
  {
   "cell_type": "code",
   "execution_count": 21,
   "id": "f5818ce7",
   "metadata": {
    "ExecuteTime": {
     "end_time": "2023-01-13T08:38:53.674839Z",
     "start_time": "2023-01-13T08:25:12.581433Z"
    }
   },
   "outputs": [],
   "source": [
    "ar_train_input, ar_test_input_high, ar_train_result, ar_test_result = split_data(case_clu.data_raw, date_trade, date_train_start, date_test_end, time_buy, price_method='high_ema', train_method='daily_close')\n",
    "model_high, label_arg_index_high, rtnh1, rtnh2, rtnh3 = generate_model(ar_train_input, ar_train_result)\n",
    "# ar_train_input, ar_test_input_low, ar_train_result, ar_test_result = split_data(case_clu.data_raw, date_trade, date_train_start, date_test_end, time_buy, price_method='low_ema', train_method='daily_close')\n",
    "# model_low, label_arg_index_low, rtnl1, rtnl2, rtnl3 = generate_model(ar_train_input, ar_train_result)\n",
    "\n",
    "# return_base = [date_trade.strftime('%y%m%d'), time_buy, rtnh1, rtnh2, rtnh3, rtnl1, rtnl2, rtnl3]\n",
    "\n",
    "# list_model = [model_high,model_low]\n",
    "# list_model = [model_high]\n",
    "# list_label = [label_arg_index_high[:int((label_arg_index_high.max()+1)/10)]]\n",
    "# list_test_input = [ar_test_input_high]\n",
    "\n",
    "# list_label = [label_arg_index_high[:int((label_arg_index_high.max()+1)/10)], label_arg_index_low[:int((label_arg_index_low.max()+1)/10)]]\n",
    "# list_test_input = [ar_test_input_high, ar_test_input_low]\n",
    "\n",
    "# return_temp = evaluate_model(list_model, list_label, list_test_input, ar_test_result)\n",
    "\n",
    "# return_base[len(return_base):] = return_temp"
   ]
  },
  {
   "cell_type": "code",
   "execution_count": null,
   "id": "d6ca4969",
   "metadata": {
    "ExecuteTime": {
     "start_time": "2023-01-13T12:25:28.302Z"
    }
   },
   "outputs": [],
   "source": [
    "from tslearn.clustering import silhouette_score\n",
    "\n",
    "silhouette_score(ar_train_input, model_high.labels_)"
   ]
  },
  {
   "cell_type": "code",
   "execution_count": 18,
   "id": "75e86fb8",
   "metadata": {
    "ExecuteTime": {
     "end_time": "2023-01-13T08:18:07.935410Z",
     "start_time": "2023-01-13T08:14:59.064591Z"
    },
    "code_folding": []
   },
   "outputs": [
    {
     "name": "stdout",
     "output_type": "stream",
     "text": [
      "220101\n"
     ]
    },
    {
     "name": "stderr",
     "output_type": "stream",
     "text": [
      "  0%|                                                                  | 0/45 [02:59<?, ?it/s]\n"
     ]
    },
    {
     "ename": "KeyboardInterrupt",
     "evalue": "",
     "output_type": "error",
     "traceback": [
      "\u001b[1;31m---------------------------------------------------------------------------\u001b[0m",
      "\u001b[1;31mKeyboardInterrupt\u001b[0m                         Traceback (most recent call last)",
      "\u001b[1;32m~\\AppData\\Local\\Temp/ipykernel_8828/549796981.py\u001b[0m in \u001b[0;36m<module>\u001b[1;34m\u001b[0m\n\u001b[0;32m     22\u001b[0m \u001b[1;31m#         model_close, label_arg_index_close = generate_model(ar_train_input, ar_train_result)\u001b[0m\u001b[1;33m\u001b[0m\u001b[1;33m\u001b[0m\u001b[1;33m\u001b[0m\u001b[0m\n\u001b[0;32m     23\u001b[0m         \u001b[0mar_train_input\u001b[0m\u001b[1;33m,\u001b[0m \u001b[0mar_test_input_high\u001b[0m\u001b[1;33m,\u001b[0m \u001b[0mar_train_result\u001b[0m\u001b[1;33m,\u001b[0m \u001b[0mar_test_result\u001b[0m \u001b[1;33m=\u001b[0m \u001b[0msplit_data\u001b[0m\u001b[1;33m(\u001b[0m\u001b[0mcase_clu\u001b[0m\u001b[1;33m.\u001b[0m\u001b[0mdata_raw\u001b[0m\u001b[1;33m,\u001b[0m \u001b[0mdate_trade\u001b[0m\u001b[1;33m,\u001b[0m \u001b[0mdate_train_start\u001b[0m\u001b[1;33m,\u001b[0m \u001b[0mdate_test_end\u001b[0m\u001b[1;33m,\u001b[0m \u001b[0mtime_buy\u001b[0m\u001b[1;33m,\u001b[0m \u001b[0mprice_method\u001b[0m\u001b[1;33m=\u001b[0m\u001b[1;34m'high_ema'\u001b[0m\u001b[1;33m,\u001b[0m \u001b[0mtrain_method\u001b[0m\u001b[1;33m=\u001b[0m\u001b[1;34m'daily_close'\u001b[0m\u001b[1;33m)\u001b[0m\u001b[1;33m\u001b[0m\u001b[1;33m\u001b[0m\u001b[0m\n\u001b[1;32m---> 24\u001b[1;33m         \u001b[0mmodel_high\u001b[0m\u001b[1;33m,\u001b[0m \u001b[0mlabel_arg_index_high\u001b[0m\u001b[1;33m,\u001b[0m \u001b[0mrtnh1\u001b[0m\u001b[1;33m,\u001b[0m \u001b[0mrtnh2\u001b[0m\u001b[1;33m,\u001b[0m \u001b[0mrtnh3\u001b[0m \u001b[1;33m=\u001b[0m \u001b[0mgenerate_model\u001b[0m\u001b[1;33m(\u001b[0m\u001b[0mar_train_input\u001b[0m\u001b[1;33m,\u001b[0m \u001b[0mar_train_result\u001b[0m\u001b[1;33m)\u001b[0m\u001b[1;33m\u001b[0m\u001b[1;33m\u001b[0m\u001b[0m\n\u001b[0m\u001b[0;32m     25\u001b[0m         \u001b[0mar_train_input\u001b[0m\u001b[1;33m,\u001b[0m \u001b[0mar_test_input_low\u001b[0m\u001b[1;33m,\u001b[0m \u001b[0mar_train_result\u001b[0m\u001b[1;33m,\u001b[0m \u001b[0mar_test_result\u001b[0m \u001b[1;33m=\u001b[0m \u001b[0msplit_data\u001b[0m\u001b[1;33m(\u001b[0m\u001b[0mcase_clu\u001b[0m\u001b[1;33m.\u001b[0m\u001b[0mdata_raw\u001b[0m\u001b[1;33m,\u001b[0m \u001b[0mdate_trade\u001b[0m\u001b[1;33m,\u001b[0m \u001b[0mdate_train_start\u001b[0m\u001b[1;33m,\u001b[0m \u001b[0mdate_test_end\u001b[0m\u001b[1;33m,\u001b[0m \u001b[0mtime_buy\u001b[0m\u001b[1;33m,\u001b[0m \u001b[0mprice_method\u001b[0m\u001b[1;33m=\u001b[0m\u001b[1;34m'low_ema'\u001b[0m\u001b[1;33m,\u001b[0m \u001b[0mtrain_method\u001b[0m\u001b[1;33m=\u001b[0m\u001b[1;34m'daily_close'\u001b[0m\u001b[1;33m)\u001b[0m\u001b[1;33m\u001b[0m\u001b[1;33m\u001b[0m\u001b[0m\n\u001b[0;32m     26\u001b[0m         \u001b[0mmodel_low\u001b[0m\u001b[1;33m,\u001b[0m \u001b[0mlabel_arg_index_low\u001b[0m\u001b[1;33m,\u001b[0m \u001b[0mrtnl1\u001b[0m\u001b[1;33m,\u001b[0m \u001b[0mrtnl2\u001b[0m\u001b[1;33m,\u001b[0m \u001b[0mrtnl3\u001b[0m \u001b[1;33m=\u001b[0m \u001b[0mgenerate_model\u001b[0m\u001b[1;33m(\u001b[0m\u001b[0mar_train_input\u001b[0m\u001b[1;33m,\u001b[0m \u001b[0mar_train_result\u001b[0m\u001b[1;33m)\u001b[0m\u001b[1;33m\u001b[0m\u001b[1;33m\u001b[0m\u001b[0m\n",
      "\u001b[1;32m~\\AppData\\Local\\Temp/ipykernel_8828/3425628857.py\u001b[0m in \u001b[0;36mgenerate_model\u001b[1;34m(ar_train_input, ar_train_result)\u001b[0m\n\u001b[0;32m     65\u001b[0m     \u001b[0mar_train_result\u001b[0m\u001b[1;33m,\u001b[0m \u001b[0mar_train_result_val\u001b[0m \u001b[1;33m=\u001b[0m \u001b[0mnp\u001b[0m\u001b[1;33m.\u001b[0m\u001b[0msplit\u001b[0m\u001b[1;33m(\u001b[0m\u001b[0mar_train_result\u001b[0m\u001b[1;33m,\u001b[0m \u001b[1;33m[\u001b[0m\u001b[0mint\u001b[0m\u001b[1;33m(\u001b[0m\u001b[0mlen\u001b[0m\u001b[1;33m(\u001b[0m\u001b[0mar_train_result\u001b[0m\u001b[1;33m)\u001b[0m\u001b[1;33m/\u001b[0m\u001b[1;36m4\u001b[0m\u001b[1;33m*\u001b[0m\u001b[1;36m3\u001b[0m\u001b[1;33m)\u001b[0m\u001b[1;33m]\u001b[0m\u001b[1;33m,\u001b[0m \u001b[0maxis\u001b[0m\u001b[1;33m=\u001b[0m\u001b[1;36m0\u001b[0m\u001b[1;33m)\u001b[0m\u001b[1;33m\u001b[0m\u001b[1;33m\u001b[0m\u001b[0m\n\u001b[0;32m     66\u001b[0m \u001b[1;33m\u001b[0m\u001b[0m\n\u001b[1;32m---> 67\u001b[1;33m     \u001b[0mmodel\u001b[0m\u001b[1;33m.\u001b[0m\u001b[0mfit\u001b[0m\u001b[1;33m(\u001b[0m\u001b[0mar_train_input\u001b[0m\u001b[1;33m)\u001b[0m\u001b[1;33m\u001b[0m\u001b[1;33m\u001b[0m\u001b[0m\n\u001b[0m\u001b[0;32m     68\u001b[0m     \u001b[0mcount_label\u001b[0m \u001b[1;33m=\u001b[0m \u001b[0mmax\u001b[0m\u001b[1;33m(\u001b[0m\u001b[0mmodel\u001b[0m\u001b[1;33m.\u001b[0m\u001b[0mlabels_\u001b[0m\u001b[1;33m)\u001b[0m\u001b[1;33m+\u001b[0m\u001b[1;36m1\u001b[0m\u001b[1;33m\u001b[0m\u001b[1;33m\u001b[0m\u001b[0m\n\u001b[0;32m     69\u001b[0m \u001b[1;33m\u001b[0m\u001b[0m\n",
      "\u001b[1;32m~\\anaconda3\\envs\\py38_64\\lib\\site-packages\\tslearn\\clustering\\kmeans.py\u001b[0m in \u001b[0;36mfit\u001b[1;34m(self, X, y)\u001b[0m\n\u001b[0;32m    778\u001b[0m                     \u001b[0mprint\u001b[0m\u001b[1;33m(\u001b[0m\u001b[1;34m\"Init %d\"\u001b[0m \u001b[1;33m%\u001b[0m \u001b[1;33m(\u001b[0m\u001b[0mn_successful\u001b[0m \u001b[1;33m+\u001b[0m \u001b[1;36m1\u001b[0m\u001b[1;33m)\u001b[0m\u001b[1;33m)\u001b[0m\u001b[1;33m\u001b[0m\u001b[1;33m\u001b[0m\u001b[0m\n\u001b[0;32m    779\u001b[0m                 \u001b[0mn_attempts\u001b[0m \u001b[1;33m+=\u001b[0m \u001b[1;36m1\u001b[0m\u001b[1;33m\u001b[0m\u001b[1;33m\u001b[0m\u001b[0m\n\u001b[1;32m--> 780\u001b[1;33m                 \u001b[0mself\u001b[0m\u001b[1;33m.\u001b[0m\u001b[0m_fit_one_init\u001b[0m\u001b[1;33m(\u001b[0m\u001b[0mX_\u001b[0m\u001b[1;33m,\u001b[0m \u001b[0mx_squared_norms\u001b[0m\u001b[1;33m,\u001b[0m \u001b[0mrs\u001b[0m\u001b[1;33m)\u001b[0m\u001b[1;33m\u001b[0m\u001b[1;33m\u001b[0m\u001b[0m\n\u001b[0m\u001b[0;32m    781\u001b[0m                 \u001b[1;32mif\u001b[0m \u001b[0mself\u001b[0m\u001b[1;33m.\u001b[0m\u001b[0minertia_\u001b[0m \u001b[1;33m<\u001b[0m \u001b[0mmin_inertia\u001b[0m\u001b[1;33m:\u001b[0m\u001b[1;33m\u001b[0m\u001b[1;33m\u001b[0m\u001b[0m\n\u001b[0;32m    782\u001b[0m                     \u001b[0mbest_correct_centroids\u001b[0m \u001b[1;33m=\u001b[0m \u001b[0mself\u001b[0m\u001b[1;33m.\u001b[0m\u001b[0mcluster_centers_\u001b[0m\u001b[1;33m.\u001b[0m\u001b[0mcopy\u001b[0m\u001b[1;33m(\u001b[0m\u001b[1;33m)\u001b[0m\u001b[1;33m\u001b[0m\u001b[1;33m\u001b[0m\u001b[0m\n",
      "\u001b[1;32m~\\anaconda3\\envs\\py38_64\\lib\\site-packages\\tslearn\\clustering\\kmeans.py\u001b[0m in \u001b[0;36m_fit_one_init\u001b[1;34m(self, X, x_squared_norms, rs)\u001b[0m\n\u001b[0;32m    660\u001b[0m \u001b[1;33m\u001b[0m\u001b[0m\n\u001b[0;32m    661\u001b[0m         \u001b[1;32mfor\u001b[0m \u001b[0mit\u001b[0m \u001b[1;32min\u001b[0m \u001b[0mrange\u001b[0m\u001b[1;33m(\u001b[0m\u001b[0mself\u001b[0m\u001b[1;33m.\u001b[0m\u001b[0mmax_iter\u001b[0m\u001b[1;33m)\u001b[0m\u001b[1;33m:\u001b[0m\u001b[1;33m\u001b[0m\u001b[1;33m\u001b[0m\u001b[0m\n\u001b[1;32m--> 662\u001b[1;33m             \u001b[0mself\u001b[0m\u001b[1;33m.\u001b[0m\u001b[0m_assign\u001b[0m\u001b[1;33m(\u001b[0m\u001b[0mX\u001b[0m\u001b[1;33m)\u001b[0m\u001b[1;33m\u001b[0m\u001b[1;33m\u001b[0m\u001b[0m\n\u001b[0m\u001b[0;32m    663\u001b[0m             \u001b[1;32mif\u001b[0m \u001b[0mself\u001b[0m\u001b[1;33m.\u001b[0m\u001b[0mverbose\u001b[0m\u001b[1;33m:\u001b[0m\u001b[1;33m\u001b[0m\u001b[1;33m\u001b[0m\u001b[0m\n\u001b[0;32m    664\u001b[0m                 \u001b[0mprint\u001b[0m\u001b[1;33m(\u001b[0m\u001b[1;34m\"%.3f\"\u001b[0m \u001b[1;33m%\u001b[0m \u001b[0mself\u001b[0m\u001b[1;33m.\u001b[0m\u001b[0minertia_\u001b[0m\u001b[1;33m,\u001b[0m \u001b[0mend\u001b[0m\u001b[1;33m=\u001b[0m\u001b[1;34m\" --> \"\u001b[0m\u001b[1;33m)\u001b[0m\u001b[1;33m\u001b[0m\u001b[1;33m\u001b[0m\u001b[0m\n",
      "\u001b[1;32m~\\anaconda3\\envs\\py38_64\\lib\\site-packages\\tslearn\\clustering\\kmeans.py\u001b[0m in \u001b[0;36m_assign\u001b[1;34m(self, X, update_class_attributes)\u001b[0m\n\u001b[0;32m    691\u001b[0m \u001b[1;33m\u001b[0m\u001b[0m\n\u001b[0;32m    692\u001b[0m     \u001b[1;32mdef\u001b[0m \u001b[0m_assign\u001b[0m\u001b[1;33m(\u001b[0m\u001b[0mself\u001b[0m\u001b[1;33m,\u001b[0m \u001b[0mX\u001b[0m\u001b[1;33m,\u001b[0m \u001b[0mupdate_class_attributes\u001b[0m\u001b[1;33m=\u001b[0m\u001b[1;32mTrue\u001b[0m\u001b[1;33m)\u001b[0m\u001b[1;33m:\u001b[0m\u001b[1;33m\u001b[0m\u001b[1;33m\u001b[0m\u001b[0m\n\u001b[1;32m--> 693\u001b[1;33m         \u001b[0mdists\u001b[0m \u001b[1;33m=\u001b[0m \u001b[0mself\u001b[0m\u001b[1;33m.\u001b[0m\u001b[0m_transform\u001b[0m\u001b[1;33m(\u001b[0m\u001b[0mX\u001b[0m\u001b[1;33m)\u001b[0m\u001b[1;33m\u001b[0m\u001b[1;33m\u001b[0m\u001b[0m\n\u001b[0m\u001b[0;32m    694\u001b[0m         \u001b[0mmatched_labels\u001b[0m \u001b[1;33m=\u001b[0m \u001b[0mdists\u001b[0m\u001b[1;33m.\u001b[0m\u001b[0margmin\u001b[0m\u001b[1;33m(\u001b[0m\u001b[0maxis\u001b[0m\u001b[1;33m=\u001b[0m\u001b[1;36m1\u001b[0m\u001b[1;33m)\u001b[0m\u001b[1;33m\u001b[0m\u001b[1;33m\u001b[0m\u001b[0m\n\u001b[0;32m    695\u001b[0m         \u001b[1;32mif\u001b[0m \u001b[0mupdate_class_attributes\u001b[0m\u001b[1;33m:\u001b[0m\u001b[1;33m\u001b[0m\u001b[1;33m\u001b[0m\u001b[0m\n",
      "\u001b[1;32m~\\anaconda3\\envs\\py38_64\\lib\\site-packages\\tslearn\\clustering\\kmeans.py\u001b[0m in \u001b[0;36m_transform\u001b[1;34m(self, X)\u001b[0m\n\u001b[0;32m    682\u001b[0m                          metric=\"euclidean\")\n\u001b[0;32m    683\u001b[0m         \u001b[1;32melif\u001b[0m \u001b[0mself\u001b[0m\u001b[1;33m.\u001b[0m\u001b[0mmetric\u001b[0m \u001b[1;33m==\u001b[0m \u001b[1;34m\"dtw\"\u001b[0m\u001b[1;33m:\u001b[0m\u001b[1;33m\u001b[0m\u001b[1;33m\u001b[0m\u001b[0m\n\u001b[1;32m--> 684\u001b[1;33m             return cdist_dtw(X, self.cluster_centers_, n_jobs=self.n_jobs,\n\u001b[0m\u001b[0;32m    685\u001b[0m                              verbose=self.verbose, **metric_params)\n\u001b[0;32m    686\u001b[0m         \u001b[1;32melif\u001b[0m \u001b[0mself\u001b[0m\u001b[1;33m.\u001b[0m\u001b[0mmetric\u001b[0m \u001b[1;33m==\u001b[0m \u001b[1;34m\"softdtw\"\u001b[0m\u001b[1;33m:\u001b[0m\u001b[1;33m\u001b[0m\u001b[1;33m\u001b[0m\u001b[0m\n",
      "\u001b[1;32m~\\anaconda3\\envs\\py38_64\\lib\\site-packages\\tslearn\\metrics\\dtw_variants.py\u001b[0m in \u001b[0;36mcdist_dtw\u001b[1;34m(dataset1, dataset2, global_constraint, sakoe_chiba_radius, itakura_max_slope, n_jobs, verbose)\u001b[0m\n\u001b[0;32m   1222\u001b[0m            \u001b[0mSignal\u001b[0m \u001b[0mProcessing\u001b[0m\u001b[1;33m,\u001b[0m \u001b[0mvol\u001b[0m\u001b[1;33m.\u001b[0m \u001b[1;36m26\u001b[0m\u001b[1;33m(\u001b[0m\u001b[1;36m1\u001b[0m\u001b[1;33m)\u001b[0m\u001b[1;33m,\u001b[0m \u001b[0mpp\u001b[0m\u001b[1;33m.\u001b[0m \u001b[1;36m43\u001b[0m\u001b[1;33m-\u001b[0m\u001b[1;33m-\u001b[0m\u001b[1;36m49\u001b[0m\u001b[1;33m,\u001b[0m \u001b[1;36m1978.\u001b[0m\u001b[1;33m\u001b[0m\u001b[1;33m\u001b[0m\u001b[0m\n\u001b[0;32m   1223\u001b[0m     \"\"\"  # noqa: E501\n\u001b[1;32m-> 1224\u001b[1;33m     return _cdist_generic(dist_fun=dtw, dataset1=dataset1, dataset2=dataset2,\n\u001b[0m\u001b[0;32m   1225\u001b[0m                           \u001b[0mn_jobs\u001b[0m\u001b[1;33m=\u001b[0m\u001b[0mn_jobs\u001b[0m\u001b[1;33m,\u001b[0m \u001b[0mverbose\u001b[0m\u001b[1;33m=\u001b[0m\u001b[0mverbose\u001b[0m\u001b[1;33m,\u001b[0m\u001b[1;33m\u001b[0m\u001b[1;33m\u001b[0m\u001b[0m\n\u001b[0;32m   1226\u001b[0m                           \u001b[0mcompute_diagonal\u001b[0m\u001b[1;33m=\u001b[0m\u001b[1;32mFalse\u001b[0m\u001b[1;33m,\u001b[0m\u001b[1;33m\u001b[0m\u001b[1;33m\u001b[0m\u001b[0m\n",
      "\u001b[1;32m~\\anaconda3\\envs\\py38_64\\lib\\site-packages\\tslearn\\metrics\\utils.py\u001b[0m in \u001b[0;36m_cdist_generic\u001b[1;34m(dist_fun, dataset1, dataset2, n_jobs, verbose, compute_diagonal, dtype, *args, **kwargs)\u001b[0m\n\u001b[0;32m     76\u001b[0m     \u001b[1;32melse\u001b[0m\u001b[1;33m:\u001b[0m\u001b[1;33m\u001b[0m\u001b[1;33m\u001b[0m\u001b[0m\n\u001b[0;32m     77\u001b[0m         \u001b[0mdataset2\u001b[0m \u001b[1;33m=\u001b[0m \u001b[0mto_time_series_dataset\u001b[0m\u001b[1;33m(\u001b[0m\u001b[0mdataset2\u001b[0m\u001b[1;33m,\u001b[0m \u001b[0mdtype\u001b[0m\u001b[1;33m=\u001b[0m\u001b[0mdtype\u001b[0m\u001b[1;33m)\u001b[0m\u001b[1;33m\u001b[0m\u001b[1;33m\u001b[0m\u001b[0m\n\u001b[1;32m---> 78\u001b[1;33m         matrix = Parallel(n_jobs=n_jobs, prefer=\"threads\", verbose=verbose)(\n\u001b[0m\u001b[0;32m     79\u001b[0m             delayed(dist_fun)(\n\u001b[0;32m     80\u001b[0m                 \u001b[0mdataset1\u001b[0m\u001b[1;33m[\u001b[0m\u001b[0mi\u001b[0m\u001b[1;33m]\u001b[0m\u001b[1;33m,\u001b[0m \u001b[0mdataset2\u001b[0m\u001b[1;33m[\u001b[0m\u001b[0mj\u001b[0m\u001b[1;33m]\u001b[0m\u001b[1;33m,\u001b[0m\u001b[1;33m\u001b[0m\u001b[1;33m\u001b[0m\u001b[0m\n",
      "\u001b[1;32m~\\anaconda3\\envs\\py38_64\\lib\\site-packages\\joblib\\parallel.py\u001b[0m in \u001b[0;36m__call__\u001b[1;34m(self, iterable)\u001b[0m\n\u001b[0;32m   1044\u001b[0m                 \u001b[0mself\u001b[0m\u001b[1;33m.\u001b[0m\u001b[0m_iterating\u001b[0m \u001b[1;33m=\u001b[0m \u001b[0mself\u001b[0m\u001b[1;33m.\u001b[0m\u001b[0m_original_iterator\u001b[0m \u001b[1;32mis\u001b[0m \u001b[1;32mnot\u001b[0m \u001b[1;32mNone\u001b[0m\u001b[1;33m\u001b[0m\u001b[1;33m\u001b[0m\u001b[0m\n\u001b[0;32m   1045\u001b[0m \u001b[1;33m\u001b[0m\u001b[0m\n\u001b[1;32m-> 1046\u001b[1;33m             \u001b[1;32mwhile\u001b[0m \u001b[0mself\u001b[0m\u001b[1;33m.\u001b[0m\u001b[0mdispatch_one_batch\u001b[0m\u001b[1;33m(\u001b[0m\u001b[0miterator\u001b[0m\u001b[1;33m)\u001b[0m\u001b[1;33m:\u001b[0m\u001b[1;33m\u001b[0m\u001b[1;33m\u001b[0m\u001b[0m\n\u001b[0m\u001b[0;32m   1047\u001b[0m                 \u001b[1;32mpass\u001b[0m\u001b[1;33m\u001b[0m\u001b[1;33m\u001b[0m\u001b[0m\n\u001b[0;32m   1048\u001b[0m \u001b[1;33m\u001b[0m\u001b[0m\n",
      "\u001b[1;32m~\\anaconda3\\envs\\py38_64\\lib\\site-packages\\joblib\\parallel.py\u001b[0m in \u001b[0;36mdispatch_one_batch\u001b[1;34m(self, iterator)\u001b[0m\n\u001b[0;32m    859\u001b[0m                 \u001b[1;32mreturn\u001b[0m \u001b[1;32mFalse\u001b[0m\u001b[1;33m\u001b[0m\u001b[1;33m\u001b[0m\u001b[0m\n\u001b[0;32m    860\u001b[0m             \u001b[1;32melse\u001b[0m\u001b[1;33m:\u001b[0m\u001b[1;33m\u001b[0m\u001b[1;33m\u001b[0m\u001b[0m\n\u001b[1;32m--> 861\u001b[1;33m                 \u001b[0mself\u001b[0m\u001b[1;33m.\u001b[0m\u001b[0m_dispatch\u001b[0m\u001b[1;33m(\u001b[0m\u001b[0mtasks\u001b[0m\u001b[1;33m)\u001b[0m\u001b[1;33m\u001b[0m\u001b[1;33m\u001b[0m\u001b[0m\n\u001b[0m\u001b[0;32m    862\u001b[0m                 \u001b[1;32mreturn\u001b[0m \u001b[1;32mTrue\u001b[0m\u001b[1;33m\u001b[0m\u001b[1;33m\u001b[0m\u001b[0m\n\u001b[0;32m    863\u001b[0m \u001b[1;33m\u001b[0m\u001b[0m\n",
      "\u001b[1;32m~\\anaconda3\\envs\\py38_64\\lib\\site-packages\\joblib\\parallel.py\u001b[0m in \u001b[0;36m_dispatch\u001b[1;34m(self, batch)\u001b[0m\n\u001b[0;32m    777\u001b[0m         \u001b[1;32mwith\u001b[0m \u001b[0mself\u001b[0m\u001b[1;33m.\u001b[0m\u001b[0m_lock\u001b[0m\u001b[1;33m:\u001b[0m\u001b[1;33m\u001b[0m\u001b[1;33m\u001b[0m\u001b[0m\n\u001b[0;32m    778\u001b[0m             \u001b[0mjob_idx\u001b[0m \u001b[1;33m=\u001b[0m \u001b[0mlen\u001b[0m\u001b[1;33m(\u001b[0m\u001b[0mself\u001b[0m\u001b[1;33m.\u001b[0m\u001b[0m_jobs\u001b[0m\u001b[1;33m)\u001b[0m\u001b[1;33m\u001b[0m\u001b[1;33m\u001b[0m\u001b[0m\n\u001b[1;32m--> 779\u001b[1;33m             \u001b[0mjob\u001b[0m \u001b[1;33m=\u001b[0m \u001b[0mself\u001b[0m\u001b[1;33m.\u001b[0m\u001b[0m_backend\u001b[0m\u001b[1;33m.\u001b[0m\u001b[0mapply_async\u001b[0m\u001b[1;33m(\u001b[0m\u001b[0mbatch\u001b[0m\u001b[1;33m,\u001b[0m \u001b[0mcallback\u001b[0m\u001b[1;33m=\u001b[0m\u001b[0mcb\u001b[0m\u001b[1;33m)\u001b[0m\u001b[1;33m\u001b[0m\u001b[1;33m\u001b[0m\u001b[0m\n\u001b[0m\u001b[0;32m    780\u001b[0m             \u001b[1;31m# A job can complete so quickly than its callback is\u001b[0m\u001b[1;33m\u001b[0m\u001b[1;33m\u001b[0m\u001b[1;33m\u001b[0m\u001b[0m\n\u001b[0;32m    781\u001b[0m             \u001b[1;31m# called before we get here, causing self._jobs to\u001b[0m\u001b[1;33m\u001b[0m\u001b[1;33m\u001b[0m\u001b[1;33m\u001b[0m\u001b[0m\n",
      "\u001b[1;32m~\\anaconda3\\envs\\py38_64\\lib\\site-packages\\joblib\\_parallel_backends.py\u001b[0m in \u001b[0;36mapply_async\u001b[1;34m(self, func, callback)\u001b[0m\n\u001b[0;32m    206\u001b[0m     \u001b[1;32mdef\u001b[0m \u001b[0mapply_async\u001b[0m\u001b[1;33m(\u001b[0m\u001b[0mself\u001b[0m\u001b[1;33m,\u001b[0m \u001b[0mfunc\u001b[0m\u001b[1;33m,\u001b[0m \u001b[0mcallback\u001b[0m\u001b[1;33m=\u001b[0m\u001b[1;32mNone\u001b[0m\u001b[1;33m)\u001b[0m\u001b[1;33m:\u001b[0m\u001b[1;33m\u001b[0m\u001b[1;33m\u001b[0m\u001b[0m\n\u001b[0;32m    207\u001b[0m         \u001b[1;34m\"\"\"Schedule a func to be run\"\"\"\u001b[0m\u001b[1;33m\u001b[0m\u001b[1;33m\u001b[0m\u001b[0m\n\u001b[1;32m--> 208\u001b[1;33m         \u001b[0mresult\u001b[0m \u001b[1;33m=\u001b[0m \u001b[0mImmediateResult\u001b[0m\u001b[1;33m(\u001b[0m\u001b[0mfunc\u001b[0m\u001b[1;33m)\u001b[0m\u001b[1;33m\u001b[0m\u001b[1;33m\u001b[0m\u001b[0m\n\u001b[0m\u001b[0;32m    209\u001b[0m         \u001b[1;32mif\u001b[0m \u001b[0mcallback\u001b[0m\u001b[1;33m:\u001b[0m\u001b[1;33m\u001b[0m\u001b[1;33m\u001b[0m\u001b[0m\n\u001b[0;32m    210\u001b[0m             \u001b[0mcallback\u001b[0m\u001b[1;33m(\u001b[0m\u001b[0mresult\u001b[0m\u001b[1;33m)\u001b[0m\u001b[1;33m\u001b[0m\u001b[1;33m\u001b[0m\u001b[0m\n",
      "\u001b[1;32m~\\anaconda3\\envs\\py38_64\\lib\\site-packages\\joblib\\_parallel_backends.py\u001b[0m in \u001b[0;36m__init__\u001b[1;34m(self, batch)\u001b[0m\n\u001b[0;32m    570\u001b[0m         \u001b[1;31m# Don't delay the application, to avoid keeping the input\u001b[0m\u001b[1;33m\u001b[0m\u001b[1;33m\u001b[0m\u001b[1;33m\u001b[0m\u001b[0m\n\u001b[0;32m    571\u001b[0m         \u001b[1;31m# arguments in memory\u001b[0m\u001b[1;33m\u001b[0m\u001b[1;33m\u001b[0m\u001b[1;33m\u001b[0m\u001b[0m\n\u001b[1;32m--> 572\u001b[1;33m         \u001b[0mself\u001b[0m\u001b[1;33m.\u001b[0m\u001b[0mresults\u001b[0m \u001b[1;33m=\u001b[0m \u001b[0mbatch\u001b[0m\u001b[1;33m(\u001b[0m\u001b[1;33m)\u001b[0m\u001b[1;33m\u001b[0m\u001b[1;33m\u001b[0m\u001b[0m\n\u001b[0m\u001b[0;32m    573\u001b[0m \u001b[1;33m\u001b[0m\u001b[0m\n\u001b[0;32m    574\u001b[0m     \u001b[1;32mdef\u001b[0m \u001b[0mget\u001b[0m\u001b[1;33m(\u001b[0m\u001b[0mself\u001b[0m\u001b[1;33m)\u001b[0m\u001b[1;33m:\u001b[0m\u001b[1;33m\u001b[0m\u001b[1;33m\u001b[0m\u001b[0m\n",
      "\u001b[1;32m~\\anaconda3\\envs\\py38_64\\lib\\site-packages\\joblib\\parallel.py\u001b[0m in \u001b[0;36m__call__\u001b[1;34m(self)\u001b[0m\n\u001b[0;32m    260\u001b[0m         \u001b[1;31m# change the default number of processes to -1\u001b[0m\u001b[1;33m\u001b[0m\u001b[1;33m\u001b[0m\u001b[1;33m\u001b[0m\u001b[0m\n\u001b[0;32m    261\u001b[0m         \u001b[1;32mwith\u001b[0m \u001b[0mparallel_backend\u001b[0m\u001b[1;33m(\u001b[0m\u001b[0mself\u001b[0m\u001b[1;33m.\u001b[0m\u001b[0m_backend\u001b[0m\u001b[1;33m,\u001b[0m \u001b[0mn_jobs\u001b[0m\u001b[1;33m=\u001b[0m\u001b[0mself\u001b[0m\u001b[1;33m.\u001b[0m\u001b[0m_n_jobs\u001b[0m\u001b[1;33m)\u001b[0m\u001b[1;33m:\u001b[0m\u001b[1;33m\u001b[0m\u001b[1;33m\u001b[0m\u001b[0m\n\u001b[1;32m--> 262\u001b[1;33m             return [func(*args, **kwargs)\n\u001b[0m\u001b[0;32m    263\u001b[0m                     for func, args, kwargs in self.items]\n\u001b[0;32m    264\u001b[0m \u001b[1;33m\u001b[0m\u001b[0m\n",
      "\u001b[1;32m~\\anaconda3\\envs\\py38_64\\lib\\site-packages\\joblib\\parallel.py\u001b[0m in \u001b[0;36m<listcomp>\u001b[1;34m(.0)\u001b[0m\n\u001b[0;32m    260\u001b[0m         \u001b[1;31m# change the default number of processes to -1\u001b[0m\u001b[1;33m\u001b[0m\u001b[1;33m\u001b[0m\u001b[1;33m\u001b[0m\u001b[0m\n\u001b[0;32m    261\u001b[0m         \u001b[1;32mwith\u001b[0m \u001b[0mparallel_backend\u001b[0m\u001b[1;33m(\u001b[0m\u001b[0mself\u001b[0m\u001b[1;33m.\u001b[0m\u001b[0m_backend\u001b[0m\u001b[1;33m,\u001b[0m \u001b[0mn_jobs\u001b[0m\u001b[1;33m=\u001b[0m\u001b[0mself\u001b[0m\u001b[1;33m.\u001b[0m\u001b[0m_n_jobs\u001b[0m\u001b[1;33m)\u001b[0m\u001b[1;33m:\u001b[0m\u001b[1;33m\u001b[0m\u001b[1;33m\u001b[0m\u001b[0m\n\u001b[1;32m--> 262\u001b[1;33m             return [func(*args, **kwargs)\n\u001b[0m\u001b[0;32m    263\u001b[0m                     for func, args, kwargs in self.items]\n\u001b[0;32m    264\u001b[0m \u001b[1;33m\u001b[0m\u001b[0m\n",
      "\u001b[1;32m~\\anaconda3\\envs\\py38_64\\lib\\site-packages\\tslearn\\metrics\\dtw_variants.py\u001b[0m in \u001b[0;36mdtw\u001b[1;34m(s1, s2, global_constraint, sakoe_chiba_radius, itakura_max_slope)\u001b[0m\n\u001b[0;32m    466\u001b[0m         \u001b[0msakoe_chiba_radius\u001b[0m\u001b[1;33m=\u001b[0m\u001b[0msakoe_chiba_radius\u001b[0m\u001b[1;33m,\u001b[0m\u001b[1;33m\u001b[0m\u001b[1;33m\u001b[0m\u001b[0m\n\u001b[0;32m    467\u001b[0m         itakura_max_slope=itakura_max_slope)\n\u001b[1;32m--> 468\u001b[1;33m     \u001b[1;32mreturn\u001b[0m \u001b[0mnjit_dtw\u001b[0m\u001b[1;33m(\u001b[0m\u001b[0ms1\u001b[0m\u001b[1;33m,\u001b[0m \u001b[0ms2\u001b[0m\u001b[1;33m,\u001b[0m \u001b[0mmask\u001b[0m\u001b[1;33m=\u001b[0m\u001b[0mmask\u001b[0m\u001b[1;33m)\u001b[0m\u001b[1;33m\u001b[0m\u001b[1;33m\u001b[0m\u001b[0m\n\u001b[0m\u001b[0;32m    469\u001b[0m \u001b[1;33m\u001b[0m\u001b[0m\n\u001b[0;32m    470\u001b[0m \u001b[1;33m\u001b[0m\u001b[0m\n",
      "\u001b[1;31mKeyboardInterrupt\u001b[0m: "
     ]
    }
   ],
   "source": [
    "stock_codes = files[:100]\n",
    "return_all = []\n",
    "for i in range(1,5):\n",
    "# i=6\n",
    "    date_trade = datetime(2022, i, 1)\n",
    "    print(date_trade.strftime('%y%m%d'))\n",
    "    month_train = 3\n",
    "    month_test = 1\n",
    "    date_train_start = date_trade - relativedelta(months=month_train)\n",
    "#     date_test_end = date_trade + relativedelta(months=month_test)\n",
    "    date_test_end = date_trade + relativedelta(days=10)\n",
    "    date_data_start = date_train_start - relativedelta(days=7)\n",
    "    date_data_end = date_test_end + relativedelta(days=7)\n",
    "    # time_buy = 1200\n",
    "\n",
    "    case_clu = Backtest_Stocks(date_data_start,date_data_end,stock_codes,timeframe='minute5',option='pd')\n",
    "    for j in tqdm(range(5,50)):\n",
    "    # i=25\n",
    "        time_buy = index_to_time(j)\n",
    "#         return_base = [date_trade.strftime('%y%m%d'), time_buy]\n",
    "#         ar_train_input, ar_test_input, ar_train_result, ar_test_result = split_data(case_clu.data_raw, date_trade, date_train_start, date_test_end, time_buy, price_method='close_ema', train_method='daily_close')\n",
    "#         model_close, label_arg_index_close = generate_model(ar_train_input, ar_train_result)\n",
    "        ar_train_input, ar_test_input_high, ar_train_result, ar_test_result = split_data(case_clu.data_raw, date_trade, date_train_start, date_test_end, time_buy, price_method='high_ema', train_method='daily_close')\n",
    "        model_high, label_arg_index_high, rtnh1, rtnh2, rtnh3 = generate_model(ar_train_input, ar_train_result)\n",
    "        ar_train_input, ar_test_input_low, ar_train_result, ar_test_result = split_data(case_clu.data_raw, date_trade, date_train_start, date_test_end, time_buy, price_method='low_ema', train_method='daily_close')\n",
    "        model_low, label_arg_index_low, rtnl1, rtnl2, rtnl3 = generate_model(ar_train_input, ar_train_result)\n",
    "\n",
    "        return_base = [date_trade.strftime('%y%m%d'), time_buy, rtnh1, rtnh2, rtnh3, rtnl1, rtnl2, rtnl3]\n",
    "\n",
    "        list_model = [model_high,model_low]\n",
    "        list_label = [label_arg_index_high[:int((label_arg_index_high.max()+1)/10)], label_arg_index_low[:int((label_arg_index_low.max()+1)/10)]]\n",
    "        list_test_input = [ar_test_input_high, ar_test_input_low]\n",
    "\n",
    "        return_temp = evaluate_model(list_model, list_label, list_test_input, ar_test_result)\n",
    "\n",
    "        return_base[len(return_base):] = return_temp\n",
    "        return_all.append(return_base)\n"
   ]
  },
  {
   "cell_type": "code",
   "execution_count": 34,
   "id": "3748697f",
   "metadata": {
    "ExecuteTime": {
     "end_time": "2023-01-11T22:33:21.043094Z",
     "start_time": "2023-01-11T22:33:20.940369Z"
    }
   },
   "outputs": [],
   "source": [
    "pd.DataFrame(return_all).to_csv('./result_hl_ema_new_ts.csv')"
   ]
  },
  {
   "cell_type": "code",
   "execution_count": 20,
   "id": "214aa410",
   "metadata": {
    "ExecuteTime": {
     "end_time": "2023-01-13T08:24:55.513240Z",
     "start_time": "2023-01-13T08:24:55.461992Z"
    },
    "code_folding": [
     0,
     85
    ]
   },
   "outputs": [],
   "source": [
    "def split_data(data, date_trade, date_train_start, date_test_end, time_buy, price_method='close', train_method='daily_close'):\n",
    "    array_date = np.array(data['date'])\n",
    "    array_close = np.array(data['close'])\n",
    "    array_code = np.array(data['code_stock']).astype(np.int32)\n",
    "    array_day = np.array([int(str(i)[:8]) for i in array_date])\n",
    "    array_time = np.array([int(str(i)[8:]) for i in array_date])\n",
    "\n",
    "    period = 20\n",
    "    if price_method == 'close':\n",
    "        ar_price = np.array(case_clu.data_raw['close'])\n",
    "    elif price_method == 'close_sma':\n",
    "        ar_price = ta.SMA(case_clu.data_raw['close'], period)\n",
    "    elif price_method == 'close_ema':\n",
    "        ar_price = ta.EMA(case_clu.data_raw['close'], period)\n",
    "    elif price_method == 'high':\n",
    "        ar_price = np.array(case_clu.data_raw['high'])\n",
    "    elif price_method == 'high_sma':\n",
    "        ar_price = ta.SMA(case_clu.data_raw['high'], period)\n",
    "    elif price_method == 'high_ema':\n",
    "        ar_price = ta.EMA(case_clu.data_raw['high'], period)\n",
    "    elif price_method == 'low':\n",
    "        ar_price = np.array(case_clu.data_raw['low'])\n",
    "    elif price_method == 'low_sma':\n",
    "        ar_price = ta.SMA(case_clu.data_raw['low'], period)\n",
    "    elif price_method == 'low_ema':\n",
    "        ar_price = ta.EMA(case_clu.data_raw['low'], period)\n",
    "\n",
    "    ind_time_train_end = time_to_index(time_buy)-1\n",
    "    len_train = ind_time_train_end + 78\n",
    "\n",
    "    ar_factor = np.array([1-np.sin(i/(len_train-2)*np.pi)/1.5 for i in range(len_train-1)])\n",
    "    ar_price_acc = np.array([np.roll(ar_price, i+1) for i in range(len_train)]).T\n",
    "    ar_price_acc = np.diff(ar_price_acc) / ar_price_acc[:,:-1] * 100 * ar_factor.reshape(1,-1)\n",
    "    ar_price_norm = ar_price_acc / np.linalg.norm(ar_price_acc, axis=1).reshape(-1,1)\n",
    "    ar_price_norm[np.isnan(ar_price_norm)] = 0  #전체 값이 0인 경우에는 0/0이므로 nan이 입력되며 이를 0으로 수정.\n",
    "\n",
    "    day_train_start = int(date_train_start.strftime('%Y%m%d'))\n",
    "    day_train_end = int(date_test_end.strftime('%Y%m%d'))\n",
    "    day_train_base = int(date_trade.strftime('%Y%m%d'))\n",
    "    \n",
    "    cond_common_train = (array_time==time_buy)\n",
    "    cond_common_test = (array_time==time_buy)&(array_close<=10000)&(array_close>=1000)\n",
    "    \n",
    "    ar_train_input = ar_price_norm[cond_common_train&(array_day <= day_train_base)&(array_day > day_train_start)]\n",
    "    ar_test_input = ar_price_norm[cond_common_test&(array_day > day_train_base)&(array_day <= day_train_end)]\n",
    "\n",
    "# high/low ratio              \n",
    "    if train_method == 'daily_close':\n",
    "        ar_return = np.array([array_close, np.roll(array_close, ind_time_train_end+1-78)]).T\n",
    "        ar_return = np.diff(ar_return) / ar_return[:,:-1] * 100\n",
    "    elif train_method == 'holding_1hr':\n",
    "        ar_return = np.array([array_close, np.roll(array_close, -6)]).T\n",
    "        ar_return = np.diff(ar_return) / ar_return[:,:-1] * 100\n",
    "    ar_train_result = ar_return[cond_common_train&(array_day <= day_train_base)&(array_day > day_train_start)]\n",
    "    ar_test_result = ar_return[cond_common_test&(array_day > day_train_base)&(array_day <= day_train_end)]\n",
    "\n",
    "    return ar_train_input, ar_test_input, ar_train_result, ar_test_result\n",
    "\n",
    "def generate_model(ar_train_input, ar_train_result):\n",
    "    n_clusters = 30\n",
    "#     model = KMeans(n_clusters=n_clusters,random_state=1)\n",
    "    model = TimeSeriesKMeans(n_clusters=n_clusters, metric=\"softdtw\",max_iter=3, random_state=1)\n",
    "#     print(ar_train_input.shape, ar_train_result.shape)\n",
    "    ar_train_input, ar_train_input_val = np.split(ar_train_input, [int(len(ar_train_input)/4*3)], axis=0)\n",
    "    ar_train_result, ar_train_result_val = np.split(ar_train_result, [int(len(ar_train_result)/4*3)], axis=0)\n",
    "\n",
    "    model.fit(ar_train_input)\n",
    "    count_label = max(model.labels_)+1\n",
    "    \n",
    "#     print(ar_train_input.shape, ar_train_result.shape)\n",
    "    \n",
    "    label_train_result = np.array([ar_train_result[model.labels_==i].mean() for i in range(count_label)])  #label마다 train결과\n",
    "    label_arg_index = label_train_result.argsort()[::-1]  # 내림차순으로 순서, 0 가장 우수\n",
    "    label_arg_index_up = label_arg_index[:int((label_arg_index.max()+1)/10)]\n",
    "\n",
    "    predict_val = model.predict(ar_train_input_val)\n",
    "    label_val_result = np.array([ar_train_result_val[predict_val==i].mean() for i in range(count_label)])\n",
    "\n",
    "    lr = LinearRegression()\n",
    "    train_return_slope = lr.fit(np.arange(count_label).reshape(-1,1), label_val_result[label_arg_index].reshape(-1,1)).coef_[0][0]\n",
    "    cond_up = np.any(np.array([predict_val==i for i in label_arg_index_up] ) )\n",
    "    ar_up = ar_train_result_val[cond_up]\n",
    "\n",
    "    return model, label_arg_index_up, train_return_slope, len(ar_up[ar_up>0])/(len(ar_up)+0.00001), -ar_up[ar_up>0].mean()/ar_up[ar_up<0].mean()\n",
    "\n",
    "def evaluate_model(models, label_arg_indexes, ar_test_inputs, ar_test_result):\n",
    "    cond_base = True\n",
    "    for model, label_arg_index, ar_test_input in zip(models, label_arg_indexes, ar_test_inputs):\n",
    "        predict = model.predict(ar_test_input)\n",
    "        cond_temp = np.any(np.array([predict==i for i in label_arg_index]),axis=0)\n",
    "        cond_base = cond_base*cond_temp\n",
    "    ar_up = ar_test_result[cond_base]\n",
    "    list_result_temp = [len(ar_up[ar_up>0])/(len(ar_up)+0.00001), -ar_up[ar_up>0].mean()/ar_up[ar_up<0].mean(), len(ar_up), ar_up.mean(), len(ar_up[ar_up>0]), ar_up[ar_up>0].mean(), len(ar_up[ar_up<0]), ar_up[ar_up<0].mean()]\n",
    "    return list_result_temp"
   ]
  },
  {
   "cell_type": "code",
   "execution_count": 137,
   "id": "6ff0a619",
   "metadata": {
    "ExecuteTime": {
     "end_time": "2022-12-28T02:36:45.616438Z",
     "start_time": "2022-12-28T02:36:45.602917Z"
    },
    "code_folding": [
     0
    ]
   },
   "outputs": [],
   "source": [
    "def reading_csv_int(file_name, datetime_start, datetime_end):\n",
    "    file = pd.read_csv(file_name, index_col=0)\n",
    "    file.sort_values(by='date', ascending=True, inplace=True)\n",
    "    file = file[(file['date'] >= datetime_start) & (\n",
    "                file['date'] <= datetime_end)]\n",
    "    file['code_stock'] = str(file_name)[-10:-4]\n",
    "#     if len(file)%79 == 0:\n",
    "    return file[['date','time','open','high','low','close','volume','value','code_stock']]"
   ]
  },
  {
   "cell_type": "code",
   "execution_count": 13,
   "id": "ab0ab57f",
   "metadata": {
    "ExecuteTime": {
     "end_time": "2022-12-30T07:01:57.465287Z",
     "start_time": "2022-12-30T07:01:57.356571Z"
    }
   },
   "outputs": [],
   "source": []
  },
  {
   "cell_type": "code",
   "execution_count": 12,
   "id": "50a7b980",
   "metadata": {
    "ExecuteTime": {
     "end_time": "2023-01-04T01:27:04.770191Z",
     "start_time": "2023-01-04T01:26:53.095409Z"
    },
    "collapsed": true
   },
   "outputs": [
    {
     "data": {
      "text/plain": [
       "[<matplotlib.lines.Line2D at 0x16b349cac40>]"
      ]
     },
     "execution_count": 12,
     "metadata": {},
     "output_type": "execute_result"
    },
    {
     "data": {
      "image/png": "[encoded data removed]",
      "text/plain": [
       "<Figure size 432x288 with 1 Axes>"
      ]
     },
     "metadata": {
      "needs_background": "light"
     },
     "output_type": "display_data"
    }
   ],
   "source": [
    "from sklearn.metrics import silhouette_samples, silhouette_score\n",
    "score = []\n",
    "for i in range(5,50):\n",
    "    km = KMeans(n_clusters=i)\n",
    "    km.fit(ar_train_input)\n",
    "    average_score = silhouette_score(ar_train_input, km.labels_)\n",
    "    score.append(average_score)\n",
    "plt.plot(range(5,50), score)\n"
   ]
  },
  {
   "cell_type": "code",
   "execution_count": 9,
   "id": "5f3b4036",
   "metadata": {
    "ExecuteTime": {
     "end_time": "2023-01-04T01:18:26.706875Z",
     "start_time": "2023-01-04T01:18:26.378797Z"
    },
    "collapsed": true
   },
   "outputs": [
    {
     "name": "stdout",
     "output_type": "stream",
     "text": [
      "0.8051652496411437\n"
     ]
    },
    {
     "data": {
      "text/plain": [
       "[<matplotlib.lines.Line2D at 0x16b34ae5730>]"
      ]
     },
     "execution_count": 9,
     "metadata": {},
     "output_type": "execute_result"
    },
    {
     "data": {
      "image/png": "[encoded data removed]",
      "text/plain": [
       "<Figure size 432x288 with 1 Axes>"
      ]
     },
     "metadata": {
      "needs_background": "light"
     },
     "output_type": "display_data"
    }
   ],
   "source": [
    "from sklearn.decomposition import PCA\n",
    "pca = PCA(n_components=50)\n",
    "pca.fit(ar_train_input)\n",
    "data_pca = pca.transform(ar_train_input)\n",
    "print(np.sum(pca.explained_variance_ratio_))\n",
    "plt.plot(pca.explained_variance_ratio_)\n"
   ]
  }
 ],
 "metadata": {
  "kernelspec": {
   "display_name": "Python 3 (ipykernel)",
   "language": "python",
   "name": "python3"
  },
  "language_info": {
   "codemirror_mode": {
    "name": "ipython",
    "version": 3
   },
   "file_extension": ".py",
   "mimetype": "text/x-python",
   "name": "python",
   "nbconvert_exporter": "python",
   "pygments_lexer": "ipython3",
   "version": "3.8.12"
  },
  "toc": {
   "base_numbering": 1,
   "nav_menu": {},
   "number_sections": true,
   "sideBar": true,
   "skip_h1_title": false,
   "title_cell": "Table of Contents",
   "title_sidebar": "Contents",
   "toc_cell": false,
   "toc_position": {},
   "toc_section_display": true,
   "toc_window_display": false
  }
 },
 "nbformat": 4,
 "nbformat_minor": 5
}
