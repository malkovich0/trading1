{
 "cells": [
  {
   "cell_type": "code",
   "execution_count": 93,
   "id": "3d061c2b",
   "metadata": {
    "ExecuteTime": {
     "end_time": "2022-10-06T03:21:27.835795Z",
     "start_time": "2022-10-06T03:21:27.809867Z"
    }
   },
   "outputs": [],
   "source": [
    "import pickle\n",
    "import pandas as pd\n",
    "import numpy as np\n",
    "from datetime import datetime\n",
    "from sklearn.metrics import *\n",
    "from sklearn.model_selection import train_test_split\n",
    "from sklearn.tree import DecisionTreeClassifier\n",
    "from sklearn.model_selection import cross_validate\n",
    "from sklearn.model_selection import TimeSeriesSplit\n",
    "from sklearn.model_selection import GridSearchCV\n",
    "from sklearn.ensemble import RandomForestClassifier\n",
    "from sklearn.ensemble import GradientBoostingClassifier"
   ]
  },
  {
   "cell_type": "code",
   "execution_count": 63,
   "id": "020a083e",
   "metadata": {
    "ExecuteTime": {
     "end_time": "2022-10-05T13:34:42.817645Z",
     "start_time": "2022-10-05T13:34:42.740733Z"
    },
    "code_folding": []
   },
   "outputs": [],
   "source": [
    "date_start = datetime(2017,10,1)\n",
    "date_end = datetime(2022,10,10)\n",
    "# date_end = datetime(2022,3,31)\n",
    "code_coin = 'KRW-BTC'\n",
    "\n",
    "def define_data ( start , end , code, timeframe = 'daily', time_start = 9 ) :\n",
    "    if timeframe == 'daily':\n",
    "        if time_start == 9:\n",
    "            data_all = pd.read_pickle(\"./data/data_coin_daily.pkl\")\n",
    "            data_all = data_all[data_all.coin == code]\n",
    "            data_all = data_all[(data_all.date >= start)&(data_all.date <= end)]\n",
    "            data_all = data_all[['open','high','low','close','value','volume','date']]\n",
    "        else:\n",
    "            data_hourly = pd.read_pickle('./data/data_coin_hourly.pkl')\n",
    "            data_hourly = data_hourly[data_hourly.coin == code]\n",
    "            start_datetime = start.replace(hour=time_start)\n",
    "            data_hourly = data_hourly[data_hourly.date >= start_datetime]\n",
    "            data_hourly.index = data_hourly.date\n",
    "            dict_ohlcv = {'open':'first','high':'max','low':'min','close':'last','value':'sum','volume':'sum','date':'first'}\n",
    "            data_all = data_hourly.resample('24H',origin=start_datetime).apply(dict_ohlcv)\n",
    "            data_all = data_all[(data_all.date >= start)&(data_all.date <= end)]\n",
    "    elif timeframe == 'hourly':\n",
    "        data_all = pd.read_pickle('./data/data_coin_hourly.pkl')\n",
    "        data_all = data_all[data_all.coin == code]\n",
    "        data_all = data_all[(data_all.date >= start)&(data_all.date <= end)]\n",
    "    else:\n",
    "        print(\"Timeframe 확인\")\n",
    "    data_all['return'] = np.log10(data_all.close / data_all.close.shift(1))\n",
    "    return data_all.reset_index(drop=True)\n",
    "data_raw_temp = define_data(date_start, date_end, code_coin, 'daily', time_start=9)"
   ]
  },
  {
   "cell_type": "code",
   "execution_count": 73,
   "id": "78542e04",
   "metadata": {
    "ExecuteTime": {
     "end_time": "2022-10-06T01:53:59.542585Z",
     "start_time": "2022-10-06T01:53:59.529508Z"
    }
   },
   "outputs": [],
   "source": [
    "def make_ml_dataset(data_raw):\n",
    "    data_raw['target'] = np.where(data_raw['return'] > np.log10(1), 1, 0)\n",
    "\n",
    "    data_raw['rtn_l1'] = data_raw['return'].rolling(5).sum().shift(1)\n",
    "    data_raw['rtn_l2'] = data_raw['return'].rolling(10).sum().shift(1)\n",
    "    data_raw['rtn_l3'] = data_raw['return'].rolling(20).sum().shift(1)\n",
    "\n",
    "    data_raw['u_noise'] = 1- np.abs(data_raw['high']-data_raw['close'])/(data_raw['high']-data_raw['low'])\n",
    "    data_raw['d_noise'] = 1- np.abs(data_raw['close']-data_raw['low'])/(data_raw['high']-data_raw['low'])\n",
    "\n",
    "    data_raw['u_noise_l1'] = data_raw['u_noise'].rolling(5).mean().shift(1)\n",
    "    data_raw['d_noise_l1'] = data_raw['d_noise'].rolling(5).mean().shift(1)\n",
    "\n",
    "    data_raw['value_cng'] = data_raw['value'].pct_change()\n",
    "    data_raw['value_cng_l1'] = data_raw['value_cng'].rolling(5).mean().shift(1)\n",
    "\n",
    "    data_raw.dropna(inplace=True)\n",
    "    ml_dataset = data_raw[['rtn_l1', 'rtn_l2', 'rtn_l3', 'u_noise_l1', 'd_noise_l1','value_cng_l1']].to_numpy()\n",
    "    target = data_raw['target'].to_numpy()\n",
    "    return data_raw\n",
    "#     return ml_dataset, target"
   ]
  },
  {
   "cell_type": "code",
   "execution_count": 68,
   "id": "7d7523c2",
   "metadata": {
    "ExecuteTime": {
     "end_time": "2022-10-06T00:00:44.767079Z",
     "start_time": "2022-10-06T00:00:26.598880Z"
    }
   },
   "outputs": [],
   "source": [
    "data_raw = pd.DataFrame()\n",
    "for i in range(24):\n",
    "    data_raw_temp = define_data(date_start, date_end, code_coin, 'daily', time_start=i)\n",
    "    data_raw_temp = make_ml_dataset(data_raw_temp)\n",
    "    data_raw = pd.concat([data_raw,data_raw_temp],axis=0)"
   ]
  },
  {
   "cell_type": "code",
   "execution_count": 72,
   "id": "6a792302",
   "metadata": {
    "ExecuteTime": {
     "end_time": "2022-10-06T01:52:00.817019Z",
     "start_time": "2022-10-06T01:52:00.748238Z"
    }
   },
   "outputs": [
    {
     "data": {
      "text/html": [
       "<div>\n",
       "<style scoped>\n",
       "    .dataframe tbody tr th:only-of-type {\n",
       "        vertical-align: middle;\n",
       "    }\n",
       "\n",
       "    .dataframe tbody tr th {\n",
       "        vertical-align: top;\n",
       "    }\n",
       "\n",
       "    .dataframe thead th {\n",
       "        text-align: right;\n",
       "    }\n",
       "</style>\n",
       "<table border=\"1\" class=\"dataframe\">\n",
       "  <thead>\n",
       "    <tr style=\"text-align: right;\">\n",
       "      <th></th>\n",
       "      <th>open</th>\n",
       "      <th>high</th>\n",
       "      <th>low</th>\n",
       "      <th>close</th>\n",
       "      <th>value</th>\n",
       "      <th>volume</th>\n",
       "      <th>date</th>\n",
       "      <th>return</th>\n",
       "      <th>target</th>\n",
       "      <th>rtn_l1</th>\n",
       "      <th>rtn_l2</th>\n",
       "      <th>rtn_l3</th>\n",
       "      <th>u_noise</th>\n",
       "      <th>d_noise</th>\n",
       "      <th>u_noise_l1</th>\n",
       "      <th>d_noise_l1</th>\n",
       "      <th>value_cng</th>\n",
       "      <th>value_cng_l1</th>\n",
       "    </tr>\n",
       "  </thead>\n",
       "  <tbody>\n",
       "    <tr>\n",
       "      <th>61</th>\n",
       "      <td>10777000.0</td>\n",
       "      <td>12680000.0</td>\n",
       "      <td>10350000.0</td>\n",
       "      <td>12264000.0</td>\n",
       "      <td>4.270351e+11</td>\n",
       "      <td>36564.197420</td>\n",
       "      <td>2017-12-01 00:00:00</td>\n",
       "      <td>0.059248</td>\n",
       "      <td>1</td>\n",
       "      <td>0.053355</td>\n",
       "      <td>0.146006</td>\n",
       "      <td>0.340430</td>\n",
       "      <td>0.821459</td>\n",
       "      <td>0.178541</td>\n",
       "      <td>0.668069</td>\n",
       "      <td>0.331931</td>\n",
       "      <td>-0.188571</td>\n",
       "      <td>0.378964</td>\n",
       "    </tr>\n",
       "    <tr>\n",
       "      <th>62</th>\n",
       "      <td>12278000.0</td>\n",
       "      <td>13180000.0</td>\n",
       "      <td>12081000.0</td>\n",
       "      <td>12640000.0</td>\n",
       "      <td>3.772563e+11</td>\n",
       "      <td>29567.672795</td>\n",
       "      <td>2017-12-02 00:00:00</td>\n",
       "      <td>0.013115</td>\n",
       "      <td>1</td>\n",
       "      <td>0.083795</td>\n",
       "      <td>0.225131</td>\n",
       "      <td>0.384653</td>\n",
       "      <td>0.508644</td>\n",
       "      <td>0.491356</td>\n",
       "      <td>0.664831</td>\n",
       "      <td>0.335169</td>\n",
       "      <td>-0.116568</td>\n",
       "      <td>0.212586</td>\n",
       "    </tr>\n",
       "    <tr>\n",
       "      <th>63</th>\n",
       "      <td>12640000.0</td>\n",
       "      <td>13487000.0</td>\n",
       "      <td>12538000.0</td>\n",
       "      <td>13304000.0</td>\n",
       "      <td>3.320132e+11</td>\n",
       "      <td>25549.344861</td>\n",
       "      <td>2017-12-03 00:00:00</td>\n",
       "      <td>0.022235</td>\n",
       "      <td>1</td>\n",
       "      <td>0.060118</td>\n",
       "      <td>0.237533</td>\n",
       "      <td>0.411020</td>\n",
       "      <td>0.807165</td>\n",
       "      <td>0.192835</td>\n",
       "      <td>0.609368</td>\n",
       "      <td>0.390632</td>\n",
       "      <td>-0.119927</td>\n",
       "      <td>0.115350</td>\n",
       "    </tr>\n",
       "    <tr>\n",
       "      <th>64</th>\n",
       "      <td>13304000.0</td>\n",
       "      <td>13560000.0</td>\n",
       "      <td>12850000.0</td>\n",
       "      <td>13432000.0</td>\n",
       "      <td>3.259701e+11</td>\n",
       "      <td>24396.970990</td>\n",
       "      <td>2017-12-04 00:00:00</td>\n",
       "      <td>0.004158</td>\n",
       "      <td>1</td>\n",
       "      <td>0.058104</td>\n",
       "      <td>0.250255</td>\n",
       "      <td>0.434940</td>\n",
       "      <td>0.819718</td>\n",
       "      <td>0.180282</td>\n",
       "      <td>0.625054</td>\n",
       "      <td>0.374946</td>\n",
       "      <td>-0.018201</td>\n",
       "      <td>0.068808</td>\n",
       "    </tr>\n",
       "    <tr>\n",
       "      <th>65</th>\n",
       "      <td>13433000.0</td>\n",
       "      <td>14370000.0</td>\n",
       "      <td>13307000.0</td>\n",
       "      <td>14222000.0</td>\n",
       "      <td>3.571227e+11</td>\n",
       "      <td>25680.120492</td>\n",
       "      <td>2017-12-05 00:00:00</td>\n",
       "      <td>0.024820</td>\n",
       "      <td>1</td>\n",
       "      <td>0.005466</td>\n",
       "      <td>0.252732</td>\n",
       "      <td>0.433185</td>\n",
       "      <td>0.860771</td>\n",
       "      <td>0.139229</td>\n",
       "      <td>0.632198</td>\n",
       "      <td>0.367802</td>\n",
       "      <td>0.095569</td>\n",
       "      <td>-0.078327</td>\n",
       "    </tr>\n",
       "    <tr>\n",
       "      <th>...</th>\n",
       "      <td>...</td>\n",
       "      <td>...</td>\n",
       "      <td>...</td>\n",
       "      <td>...</td>\n",
       "      <td>...</td>\n",
       "      <td>...</td>\n",
       "      <td>...</td>\n",
       "      <td>...</td>\n",
       "      <td>...</td>\n",
       "      <td>...</td>\n",
       "      <td>...</td>\n",
       "      <td>...</td>\n",
       "      <td>...</td>\n",
       "      <td>...</td>\n",
       "      <td>...</td>\n",
       "      <td>...</td>\n",
       "      <td>...</td>\n",
       "      <td>...</td>\n",
       "    </tr>\n",
       "    <tr>\n",
       "      <th>1813</th>\n",
       "      <td>28006000.0</td>\n",
       "      <td>28006000.0</td>\n",
       "      <td>26216000.0</td>\n",
       "      <td>27111000.0</td>\n",
       "      <td>2.471417e+11</td>\n",
       "      <td>9182.809132</td>\n",
       "      <td>2022-09-18 23:00:00</td>\n",
       "      <td>-0.014075</td>\n",
       "      <td>0</td>\n",
       "      <td>-0.021954</td>\n",
       "      <td>0.005525</td>\n",
       "      <td>-0.048130</td>\n",
       "      <td>0.500000</td>\n",
       "      <td>0.500000</td>\n",
       "      <td>0.422937</td>\n",
       "      <td>0.577063</td>\n",
       "      <td>2.268901</td>\n",
       "      <td>-0.247501</td>\n",
       "    </tr>\n",
       "    <tr>\n",
       "      <th>1814</th>\n",
       "      <td>27111000.0</td>\n",
       "      <td>27732000.0</td>\n",
       "      <td>26720000.0</td>\n",
       "      <td>26855000.0</td>\n",
       "      <td>1.667403e+11</td>\n",
       "      <td>6115.305205</td>\n",
       "      <td>2022-09-19 23:00:00</td>\n",
       "      <td>-0.004120</td>\n",
       "      <td>0</td>\n",
       "      <td>-0.020921</td>\n",
       "      <td>-0.012194</td>\n",
       "      <td>-0.044280</td>\n",
       "      <td>0.133399</td>\n",
       "      <td>0.866601</td>\n",
       "      <td>0.472301</td>\n",
       "      <td>0.527699</td>\n",
       "      <td>-0.325325</td>\n",
       "      <td>0.208043</td>\n",
       "    </tr>\n",
       "    <tr>\n",
       "      <th>1815</th>\n",
       "      <td>26859000.0</td>\n",
       "      <td>27283000.0</td>\n",
       "      <td>26582000.0</td>\n",
       "      <td>27217000.0</td>\n",
       "      <td>1.251117e+11</td>\n",
       "      <td>4653.851171</td>\n",
       "      <td>2022-09-20 23:00:00</td>\n",
       "      <td>0.005815</td>\n",
       "      <td>1</td>\n",
       "      <td>-0.022424</td>\n",
       "      <td>-0.014676</td>\n",
       "      <td>-0.060680</td>\n",
       "      <td>0.905849</td>\n",
       "      <td>0.094151</td>\n",
       "      <td>0.361772</td>\n",
       "      <td>0.638228</td>\n",
       "      <td>-0.249661</td>\n",
       "      <td>0.211706</td>\n",
       "    </tr>\n",
       "    <tr>\n",
       "      <th>1816</th>\n",
       "      <td>27217000.0</td>\n",
       "      <td>27974000.0</td>\n",
       "      <td>26199000.0</td>\n",
       "      <td>26951000.0</td>\n",
       "      <td>2.853706e+11</td>\n",
       "      <td>10570.073876</td>\n",
       "      <td>2022-09-21 23:00:00</td>\n",
       "      <td>-0.004265</td>\n",
       "      <td>0</td>\n",
       "      <td>-0.007216</td>\n",
       "      <td>-0.003987</td>\n",
       "      <td>-0.036642</td>\n",
       "      <td>0.423662</td>\n",
       "      <td>0.576338</td>\n",
       "      <td>0.525610</td>\n",
       "      <td>0.474390</td>\n",
       "      <td>1.280926</td>\n",
       "      <td>0.201509</td>\n",
       "    </tr>\n",
       "    <tr>\n",
       "      <th>1817</th>\n",
       "      <td>26950000.0</td>\n",
       "      <td>27698000.0</td>\n",
       "      <td>26872000.0</td>\n",
       "      <td>27679000.0</td>\n",
       "      <td>7.997891e+10</td>\n",
       "      <td>2919.075727</td>\n",
       "      <td>2022-09-22 23:00:00</td>\n",
       "      <td>0.011576</td>\n",
       "      <td>1</td>\n",
       "      <td>-0.017172</td>\n",
       "      <td>-0.014063</td>\n",
       "      <td>-0.042970</td>\n",
       "      <td>0.976998</td>\n",
       "      <td>0.023002</td>\n",
       "      <td>0.459374</td>\n",
       "      <td>0.540626</td>\n",
       "      <td>-0.719737</td>\n",
       "      <td>0.533800</td>\n",
       "    </tr>\n",
       "  </tbody>\n",
       "</table>\n",
       "<p>42144 rows × 18 columns</p>\n",
       "</div>"
      ],
      "text/plain": [
       "            open        high         low       close         value  \\\n",
       "61    10777000.0  12680000.0  10350000.0  12264000.0  4.270351e+11   \n",
       "62    12278000.0  13180000.0  12081000.0  12640000.0  3.772563e+11   \n",
       "63    12640000.0  13487000.0  12538000.0  13304000.0  3.320132e+11   \n",
       "64    13304000.0  13560000.0  12850000.0  13432000.0  3.259701e+11   \n",
       "65    13433000.0  14370000.0  13307000.0  14222000.0  3.571227e+11   \n",
       "...          ...         ...         ...         ...           ...   \n",
       "1813  28006000.0  28006000.0  26216000.0  27111000.0  2.471417e+11   \n",
       "1814  27111000.0  27732000.0  26720000.0  26855000.0  1.667403e+11   \n",
       "1815  26859000.0  27283000.0  26582000.0  27217000.0  1.251117e+11   \n",
       "1816  27217000.0  27974000.0  26199000.0  26951000.0  2.853706e+11   \n",
       "1817  26950000.0  27698000.0  26872000.0  27679000.0  7.997891e+10   \n",
       "\n",
       "            volume                date    return  target    rtn_l1    rtn_l2  \\\n",
       "61    36564.197420 2017-12-01 00:00:00  0.059248       1  0.053355  0.146006   \n",
       "62    29567.672795 2017-12-02 00:00:00  0.013115       1  0.083795  0.225131   \n",
       "63    25549.344861 2017-12-03 00:00:00  0.022235       1  0.060118  0.237533   \n",
       "64    24396.970990 2017-12-04 00:00:00  0.004158       1  0.058104  0.250255   \n",
       "65    25680.120492 2017-12-05 00:00:00  0.024820       1  0.005466  0.252732   \n",
       "...            ...                 ...       ...     ...       ...       ...   \n",
       "1813   9182.809132 2022-09-18 23:00:00 -0.014075       0 -0.021954  0.005525   \n",
       "1814   6115.305205 2022-09-19 23:00:00 -0.004120       0 -0.020921 -0.012194   \n",
       "1815   4653.851171 2022-09-20 23:00:00  0.005815       1 -0.022424 -0.014676   \n",
       "1816  10570.073876 2022-09-21 23:00:00 -0.004265       0 -0.007216 -0.003987   \n",
       "1817   2919.075727 2022-09-22 23:00:00  0.011576       1 -0.017172 -0.014063   \n",
       "\n",
       "        rtn_l3   u_noise   d_noise  u_noise_l1  d_noise_l1  value_cng  \\\n",
       "61    0.340430  0.821459  0.178541    0.668069    0.331931  -0.188571   \n",
       "62    0.384653  0.508644  0.491356    0.664831    0.335169  -0.116568   \n",
       "63    0.411020  0.807165  0.192835    0.609368    0.390632  -0.119927   \n",
       "64    0.434940  0.819718  0.180282    0.625054    0.374946  -0.018201   \n",
       "65    0.433185  0.860771  0.139229    0.632198    0.367802   0.095569   \n",
       "...        ...       ...       ...         ...         ...        ...   \n",
       "1813 -0.048130  0.500000  0.500000    0.422937    0.577063   2.268901   \n",
       "1814 -0.044280  0.133399  0.866601    0.472301    0.527699  -0.325325   \n",
       "1815 -0.060680  0.905849  0.094151    0.361772    0.638228  -0.249661   \n",
       "1816 -0.036642  0.423662  0.576338    0.525610    0.474390   1.280926   \n",
       "1817 -0.042970  0.976998  0.023002    0.459374    0.540626  -0.719737   \n",
       "\n",
       "      value_cng_l1  \n",
       "61        0.378964  \n",
       "62        0.212586  \n",
       "63        0.115350  \n",
       "64        0.068808  \n",
       "65       -0.078327  \n",
       "...            ...  \n",
       "1813     -0.247501  \n",
       "1814      0.208043  \n",
       "1815      0.211706  \n",
       "1816      0.201509  \n",
       "1817      0.533800  \n",
       "\n",
       "[42144 rows x 18 columns]"
      ]
     },
     "execution_count": 72,
     "metadata": {},
     "output_type": "execute_result"
    }
   ],
   "source": [
    "data_raw"
   ]
  },
  {
   "cell_type": "code",
   "execution_count": 50,
   "id": "e262ba92",
   "metadata": {
    "ExecuteTime": {
     "end_time": "2022-10-05T04:16:08.073999Z",
     "start_time": "2022-10-05T04:16:08.008137Z"
    }
   },
   "outputs": [
    {
     "data": {
      "text/html": [
       "<div>\n",
       "<style scoped>\n",
       "    .dataframe tbody tr th:only-of-type {\n",
       "        vertical-align: middle;\n",
       "    }\n",
       "\n",
       "    .dataframe tbody tr th {\n",
       "        vertical-align: top;\n",
       "    }\n",
       "\n",
       "    .dataframe thead th {\n",
       "        text-align: right;\n",
       "    }\n",
       "</style>\n",
       "<table border=\"1\" class=\"dataframe\">\n",
       "  <thead>\n",
       "    <tr style=\"text-align: right;\">\n",
       "      <th></th>\n",
       "      <th>open</th>\n",
       "      <th>high</th>\n",
       "      <th>low</th>\n",
       "      <th>close</th>\n",
       "      <th>value</th>\n",
       "      <th>return</th>\n",
       "    </tr>\n",
       "  </thead>\n",
       "  <tbody>\n",
       "    <tr>\n",
       "      <th>0</th>\n",
       "      <td>NaN</td>\n",
       "      <td>NaN</td>\n",
       "      <td>NaN</td>\n",
       "      <td>4804000.0</td>\n",
       "      <td>NaN</td>\n",
       "      <td>NaN</td>\n",
       "    </tr>\n",
       "    <tr>\n",
       "      <th>1</th>\n",
       "      <td>NaN</td>\n",
       "      <td>NaN</td>\n",
       "      <td>NaN</td>\n",
       "      <td>4790000.0</td>\n",
       "      <td>NaN</td>\n",
       "      <td>NaN</td>\n",
       "    </tr>\n",
       "    <tr>\n",
       "      <th>2</th>\n",
       "      <td>NaN</td>\n",
       "      <td>NaN</td>\n",
       "      <td>NaN</td>\n",
       "      <td>4790000.0</td>\n",
       "      <td>NaN</td>\n",
       "      <td>NaN</td>\n",
       "    </tr>\n",
       "    <tr>\n",
       "      <th>3</th>\n",
       "      <td>NaN</td>\n",
       "      <td>NaN</td>\n",
       "      <td>NaN</td>\n",
       "      <td>4806000.0</td>\n",
       "      <td>NaN</td>\n",
       "      <td>NaN</td>\n",
       "    </tr>\n",
       "    <tr>\n",
       "      <th>4</th>\n",
       "      <td>NaN</td>\n",
       "      <td>NaN</td>\n",
       "      <td>NaN</td>\n",
       "      <td>4830000.0</td>\n",
       "      <td>NaN</td>\n",
       "      <td>NaN</td>\n",
       "    </tr>\n",
       "    <tr>\n",
       "      <th>...</th>\n",
       "      <td>...</td>\n",
       "      <td>...</td>\n",
       "      <td>...</td>\n",
       "      <td>...</td>\n",
       "      <td>...</td>\n",
       "      <td>...</td>\n",
       "    </tr>\n",
       "    <tr>\n",
       "      <th>43571</th>\n",
       "      <td>26523000.0</td>\n",
       "      <td>27698000.0</td>\n",
       "      <td>26478000.0</td>\n",
       "      <td>27572000.0</td>\n",
       "      <td>1.614473e+11</td>\n",
       "      <td>0.016600</td>\n",
       "    </tr>\n",
       "    <tr>\n",
       "      <th>43572</th>\n",
       "      <td>26500000.0</td>\n",
       "      <td>27698000.0</td>\n",
       "      <td>26479000.0</td>\n",
       "      <td>27495000.0</td>\n",
       "      <td>1.603059e+11</td>\n",
       "      <td>0.016008</td>\n",
       "    </tr>\n",
       "    <tr>\n",
       "      <th>43573</th>\n",
       "      <td>26638000.0</td>\n",
       "      <td>27698000.0</td>\n",
       "      <td>26600000.0</td>\n",
       "      <td>27567000.0</td>\n",
       "      <td>1.605339e+11</td>\n",
       "      <td>0.014855</td>\n",
       "    </tr>\n",
       "    <tr>\n",
       "      <th>43574</th>\n",
       "      <td>26890000.0</td>\n",
       "      <td>27698000.0</td>\n",
       "      <td>26650000.0</td>\n",
       "      <td>27483000.0</td>\n",
       "      <td>1.596177e+11</td>\n",
       "      <td>0.009473</td>\n",
       "    </tr>\n",
       "    <tr>\n",
       "      <th>43575</th>\n",
       "      <td>26820000.0</td>\n",
       "      <td>27698000.0</td>\n",
       "      <td>26650000.0</td>\n",
       "      <td>27679000.0</td>\n",
       "      <td>1.597500e+11</td>\n",
       "      <td>0.013692</td>\n",
       "    </tr>\n",
       "  </tbody>\n",
       "</table>\n",
       "<p>43576 rows × 6 columns</p>\n",
       "</div>"
      ],
      "text/plain": [
       "             open        high         low       close         value    return\n",
       "0             NaN         NaN         NaN   4804000.0           NaN       NaN\n",
       "1             NaN         NaN         NaN   4790000.0           NaN       NaN\n",
       "2             NaN         NaN         NaN   4790000.0           NaN       NaN\n",
       "3             NaN         NaN         NaN   4806000.0           NaN       NaN\n",
       "4             NaN         NaN         NaN   4830000.0           NaN       NaN\n",
       "...           ...         ...         ...         ...           ...       ...\n",
       "43571  26523000.0  27698000.0  26478000.0  27572000.0  1.614473e+11  0.016600\n",
       "43572  26500000.0  27698000.0  26479000.0  27495000.0  1.603059e+11  0.016008\n",
       "43573  26638000.0  27698000.0  26600000.0  27567000.0  1.605339e+11  0.014855\n",
       "43574  26890000.0  27698000.0  26650000.0  27483000.0  1.596177e+11  0.009473\n",
       "43575  26820000.0  27698000.0  26650000.0  27679000.0  1.597500e+11  0.013692\n",
       "\n",
       "[43576 rows x 6 columns]"
      ]
     },
     "execution_count": 50,
     "metadata": {},
     "output_type": "execute_result"
    }
   ],
   "source": [
    "# data_raw.dropna(inplace=True)\n",
    "# dict_ohlcv = {'open':'first','high':'max','low':'min','close':'last','value':'sum','return':'sum'}\n",
    "data_raw[['open']] = data_raw[['open']].shift(23)\n",
    "data_raw[['high']] = data_raw[['high']].rolling(24).max()\n",
    "data_raw[['low']] = data_raw[['low']].rolling(24).min()\n",
    "data_raw[['value']] = data_raw[['value']].rolling(24).sum()\n",
    "data_raw[['return']] = data_raw[['return']].rolling(24).sum()\n",
    "data_raw[['open','high','low','close','value','return']]"
   ]
  },
  {
   "cell_type": "code",
   "execution_count": 6,
   "id": "b9f5fa8b",
   "metadata": {
    "ExecuteTime": {
     "end_time": "2022-10-04T03:11:02.830256Z",
     "start_time": "2022-10-04T03:11:02.810142Z"
    },
    "collapsed": true
   },
   "outputs": [
    {
     "data": {
      "text/plain": [
       "0            NaN\n",
       "1      -0.822377\n",
       "2       0.455448\n",
       "3       1.569855\n",
       "4      -0.267958\n",
       "          ...   \n",
       "1783   -0.464833\n",
       "1784    0.459703\n",
       "1785    0.081527\n",
       "1786   -0.404230\n",
       "1787   -0.923321\n",
       "Name: value, Length: 1788, dtype: float64"
      ]
     },
     "execution_count": 6,
     "metadata": {},
     "output_type": "execute_result"
    }
   ],
   "source": [
    "data_raw['value'].pct_change()`"
   ]
  },
  {
   "cell_type": "code",
   "execution_count": 80,
   "id": "f03ae86b",
   "metadata": {
    "ExecuteTime": {
     "end_time": "2022-10-06T02:45:54.383591Z",
     "start_time": "2022-10-06T02:45:54.283359Z"
    }
   },
   "outputs": [],
   "source": [
    "data_raw.sort_values(by=['date'], ascending=True, inplace=True)\n",
    "\n",
    "data_raw_train = pd.DataFrame()\n",
    "data_raw_test = pd.DataFrame()\n",
    "\n",
    "# for i in range(5):\n",
    "#     df_train = data_raw.iloc[i*8430 : i*8430+6360]\n",
    "#     df_test = data_raw.iloc[i*8430+6360 : i*8430+(6360+1590)]\n",
    "#     df_pass = data_raw.iloc[i*8430+(6360+1590) : (i+1)*8430]\n",
    "#     data_raw_train = pd.concat([data_raw_train, df_train], axis=0)\n",
    "#     data_raw_test = pd.concat([data_raw_test, df_test], axis=0)\n",
    "\n",
    "for i in range(10):\n",
    "    df_train = data_raw.iloc[i*4220 : i*4220+2990]\n",
    "    df_test = data_raw.iloc[i*4220 +2990: i*4220 +(2990+750)]\n",
    "    df_pass = data_raw.iloc[i*4220 +(2990+750) : (i+1)*4220 ]\n",
    "    data_raw_train = pd.concat([data_raw_train, df_train], axis=0)\n",
    "    data_raw_test = pd.concat([data_raw_test, df_test], axis=0)\n",
    "\n",
    "\n",
    "data_raw_train_mix = np.random.permutation(data_raw_train[['rtn_l1', 'rtn_l2', 'rtn_l3', 'u_noise_l1', 'd_noise_l1', 'value_cng_l1','target']].to_numpy())\n",
    "data_raw_test_mix = np.random.permutation(data_raw_test[['rtn_l1', 'rtn_l2', 'rtn_l3', 'u_noise_l1', 'd_noise_l1', 'value_cng_l1','target']].to_numpy())\n",
    "\n",
    "train_input  = data_raw_train[['rtn_l1', 'rtn_l2', 'rtn_l3', 'u_noise_l1', 'd_noise_l1', 'value_cng_l1']].to_numpy()\n",
    "test_input  = data_raw_test[['rtn_l1', 'rtn_l2', 'rtn_l3', 'u_noise_l1', 'd_noise_l1', 'value_cng_l1']].to_numpy()\n",
    "train_target = data_raw_train['target'].to_numpy()\n",
    "test_target = data_raw_test['target'].to_numpy()\n"
   ]
  },
  {
   "cell_type": "code",
   "execution_count": 69,
   "id": "3866ca23",
   "metadata": {
    "ExecuteTime": {
     "end_time": "2022-10-06T00:03:49.637853Z",
     "start_time": "2022-10-06T00:03:48.960969Z"
    }
   },
   "outputs": [
    {
     "name": "stdout",
     "output_type": "stream",
     "text": [
      "상승비율 :  0.5181520501138952\n",
      "train상승비율 :  0.5181373275989916\n",
      "test상승비율 :  0.5182109384268596\n",
      "0.7406282387275369\n",
      "1.0\n",
      "0.7408945307865702\n",
      "[0.18722666 0.228549   0.26691402 0.06733873 0.06173333 0.18823825]\n"
     ]
    }
   ],
   "source": [
    "# data_raw['target'] = np.where(data_raw['return'] > 0.007987,3,np.where(data_raw['rtn'] > 0.000707, 2,np.where(data_raw['rtn'] > -0.006008, 1, 0)))\n",
    "data_raw['target'] = np.where(data_raw['return'] > 0, 1, 0)\n",
    "print('상승비율 : ', np.mean(data_raw['target']))\n",
    "\n",
    "# data_raw['rtn_l1'] = data_raw['return'].rolling(5).sum().shift(1)\n",
    "# data_raw['rtn_l2'] = data_raw['return'].rolling(20).sum().shift(1)\n",
    "# data_raw['rtn_l3'] = data_raw['return'].rolling(60).sum().shift(1)\n",
    "\n",
    "# # data_raw['noise'] = 1- np.abs(data_raw['Close']-data_raw['Open'])/(data_raw['High']-data_raw['Low'])\n",
    "# data_raw['u_noise'] = 1- np.abs(data_raw['high']-data_raw['close'])/(data_raw['high']-data_raw['low'])\n",
    "# data_raw['d_noise'] = 1- np.abs(data_raw['close']-data_raw['low'])/(data_raw['high']-data_raw['low'])\n",
    "\n",
    "# data_raw['u_noise_l1'] = data_raw['u_noise'].rolling(5).mean().shift(1)\n",
    "# data_raw['d_noise_l1'] = data_raw['d_noise'].rolling(5).mean().shift(1)\n",
    "\n",
    "# data_raw['value_cng'] = data_raw['value'].pct_change()\n",
    "# data_raw['value_cng_l1'] = data_raw['value_cng'].rolling(5).mean().shift(1)\n",
    "\n",
    "# data_raw.drop(['Open','Close','High','Low'], axis='columns', inplace=True)\n",
    "data_raw.dropna(inplace=True)\n",
    "\n",
    "# data = data_raw.drop(['target'], axis='columns').to_numpy()\n",
    "data = data_raw[['rtn_l1', 'rtn_l2', 'rtn_l3', 'u_noise_l1', 'd_noise_l1', 'value_cng_l1']].to_numpy()\n",
    "target = data_raw['target'].to_numpy()\n",
    "\n",
    "\n",
    "train_input, test_input, train_target, test_target = train_test_split(data, target, test_size=0.2, shuffle=True, stratify=target, random_state=42)\n",
    "\n",
    "print('train상승비율 : ', np.mean(train_target))\n",
    "print('test상승비율 : ', np.mean(test_target))\n",
    "\n",
    "dt = DecisionTreeClassifier(random_state = 42)\n",
    "\n",
    "dt.fit(train_input, train_target)\n",
    "pred = dt.predict(test_input)\n",
    "print(roc_auc_score(test_target, pred))\n",
    "print(dt.score(train_input, train_target))\n",
    "print(dt.score(test_input, test_target))\n",
    "\n",
    "print(dt.feature_importances_)"
   ]
  },
  {
   "cell_type": "code",
   "execution_count": 17,
   "id": "c66046fa",
   "metadata": {
    "ExecuteTime": {
     "end_time": "2022-10-04T03:44:04.280998Z",
     "start_time": "2022-10-04T03:44:04.261054Z"
    },
    "scrolled": true
   },
   "outputs": [
    {
     "data": {
      "text/plain": [
       "0.6714178544636159"
      ]
     },
     "execution_count": 17,
     "metadata": {},
     "output_type": "execute_result"
    }
   ],
   "source": [
    "clf.score(train_input, train_target)"
   ]
  },
  {
   "cell_type": "code",
   "execution_count": 95,
   "id": "9d3d15b8",
   "metadata": {
    "ExecuteTime": {
     "end_time": "2022-10-06T03:59:35.566867Z",
     "start_time": "2022-10-06T03:24:58.113600Z"
    }
   },
   "outputs": [
    {
     "name": "stdout",
     "output_type": "stream",
     "text": [
      "{'max_depth': 11, 'max_features': 4, 'min_samples_leaf': 1, 'min_samples_split': 18, 'n_estimators': 60}\n",
      "0.49889624724061815\n",
      "0.4765333333333333\n",
      "0.47658429752465825\n"
     ]
    }
   ],
   "source": [
    "from scipy.stats import uniform, randint\n",
    "# 'bootstrap' : [True],\n",
    "params = {'n_estimators' : range(10,200,10), \n",
    "          'max_depth' : randint(10, 30), \n",
    "          'min_samples_leaf' : randint(1, 25), \n",
    "          'min_samples_split' : randint(2, 25), \n",
    "          'max_features' : [4] }\n",
    "\n",
    "from sklearn.model_selection import RandomizedSearchCV\n",
    "\n",
    "my_cv = TimeSeriesSplit(n_splits=5).split(train_input)\n",
    "\n",
    "# clf = RandomizedSearchCV(RandomForestClassifier(), params, cv=my_cv, n_jobs=-1, n_iter=100)\n",
    "clf = RandomizedSearchCV(GradientBoostingClassifier(), params, cv=my_cv, n_jobs=-1, n_iter=100)\n",
    "clf.fit(train_input, train_target)\n",
    "\n",
    "print(clf.best_params_)\n",
    "print(clf.best_score_)\n",
    "\n",
    "pred_con = clf.predict(test_input)\n",
    "print(accuracy_score(test_target, pred_con))\n",
    "print(roc_auc_score(test_target, pred_con))\n"
   ]
  },
  {
   "cell_type": "code",
   "execution_count": 90,
   "id": "53e88740",
   "metadata": {
    "ExecuteTime": {
     "end_time": "2022-10-06T03:12:13.829045Z",
     "start_time": "2022-10-06T03:12:13.822029Z"
    }
   },
   "outputs": [],
   "source": [
    "pred_con_inverse = np.where(pred_con == 0, 1, 0)"
   ]
  },
  {
   "cell_type": "code",
   "execution_count": 92,
   "id": "d29b3fa8",
   "metadata": {
    "ExecuteTime": {
     "end_time": "2022-10-06T03:13:57.904335Z",
     "start_time": "2022-10-06T03:13:57.881368Z"
    }
   },
   "outputs": [
    {
     "data": {
      "text/plain": [
       "0.6138371044013343"
      ]
     },
     "execution_count": 92,
     "metadata": {},
     "output_type": "execute_result"
    }
   ],
   "source": [
    "sum(np.array(data_raw_test['return']))"
   ]
  },
  {
   "cell_type": "code",
   "execution_count": 91,
   "id": "88cd9967",
   "metadata": {
    "ExecuteTime": {
     "end_time": "2022-10-06T03:12:19.343761Z",
     "start_time": "2022-10-06T03:12:19.321758Z"
    }
   },
   "outputs": [
    {
     "data": {
      "text/plain": [
       "7.483575499592382"
      ]
     },
     "execution_count": 91,
     "metadata": {},
     "output_type": "execute_result"
    }
   ],
   "source": [
    "sum(np.array(data_raw_test['return']) * pred_con_inverse)"
   ]
  },
  {
   "cell_type": "code",
   "execution_count": 52,
   "id": "61b8960a",
   "metadata": {
    "ExecuteTime": {
     "end_time": "2022-10-05T07:34:29.822800Z",
     "start_time": "2022-10-05T04:17:00.082301Z"
    }
   },
   "outputs": [
    {
     "name": "stdout",
     "output_type": "stream",
     "text": [
      "{'bootstrap': True, 'max_depth': 6, 'max_features': 4, 'min_samples_leaf': 2, 'min_samples_split': 6, 'n_estimators': 180}\n",
      "0.8562607795791652\n",
      "0.8634325784572939\n",
      "0.8627968060349986\n"
     ]
    }
   ],
   "source": [
    "n_estimators = range(10,200,10)\n",
    "params = {'bootstrap' : [True], \n",
    "          'n_estimators' : n_estimators, \n",
    "          'max_depth' : range(4,13,2), \n",
    "          'min_samples_leaf' : range(2, 6, 1), \n",
    "          'min_samples_split' : range(2, 11, 2), \n",
    "          'max_features' : [4] }\n",
    "\n",
    "my_cv = TimeSeriesSplit(n_splits=5).split(train_input)\n",
    "\n",
    "clf = GridSearchCV(RandomForestClassifier(), params, cv=my_cv, n_jobs=-1)\n",
    "# clf = GridSearchCV(GradientBoostingClassifier(), params, cv=my_cv, n_jobs=-1)\n",
    "clf.fit(train_input, train_target)\n",
    "\n",
    "print(clf.best_params_)\n",
    "print(clf.best_score_)\n",
    "\n",
    "pred_con = clf.predict(test_input)\n",
    "print(accuracy_score(test_target, pred_con))\n",
    "print(roc_auc_score(test_target, pred_con))\n",
    "\n"
   ]
  },
  {
   "cell_type": "code",
   "execution_count": 82,
   "id": "27f1fbc4",
   "metadata": {
    "ExecuteTime": {
     "end_time": "2022-10-06T03:01:50.088946Z",
     "start_time": "2022-10-06T03:01:49.996479Z"
    }
   },
   "outputs": [
    {
     "data": {
      "text/plain": [
       "['./model/model4.pkl']"
      ]
     },
     "execution_count": 82,
     "metadata": {},
     "output_type": "execute_result"
    }
   ],
   "source": [
    "import joblib\n",
    "# 학습시킨 모델을 현재 경로에 knn_model.pkl 파일로 저장합니다.\n",
    "joblib.dump(clf.best_estimator_, './model/model4.pkl')\n"
   ]
  },
  {
   "cell_type": "code",
   "execution_count": 30,
   "id": "6e50aaa9",
   "metadata": {
    "ExecuteTime": {
     "end_time": "2022-10-05T03:03:54.523863Z",
     "start_time": "2022-10-05T03:03:54.465175Z"
    }
   },
   "outputs": [
    {
     "data": {
      "text/plain": [
       "0.5269461077844312"
      ]
     },
     "execution_count": 30,
     "metadata": {},
     "output_type": "execute_result"
    }
   ],
   "source": [
    "loaded_model = joblib.load('./model/model2.pkl')\n",
    "score = loaded_model.score(test_input, test_target)\n",
    "score"
   ]
  },
  {
   "cell_type": "code",
   "execution_count": 53,
   "id": "03581d43",
   "metadata": {
    "ExecuteTime": {
     "end_time": "2022-10-05T13:16:56.810707Z",
     "start_time": "2022-10-05T13:16:56.744401Z"
    }
   },
   "outputs": [
    {
     "data": {
      "text/plain": [
       "array([0.62187394, 0.00864812, 0.00484978, 0.16550109, 0.18621364,\n",
       "       0.01291343])"
      ]
     },
     "execution_count": 53,
     "metadata": {},
     "output_type": "execute_result"
    }
   ],
   "source": [
    "clf.best_estimator_.feature_importances_"
   ]
  }
 ],
 "metadata": {
  "kernelspec": {
   "display_name": "Python 3 (ipykernel)",
   "language": "python",
   "name": "python3"
  },
  "language_info": {
   "codemirror_mode": {
    "name": "ipython",
    "version": 3
   },
   "file_extension": ".py",
   "mimetype": "text/x-python",
   "name": "python",
   "nbconvert_exporter": "python",
   "pygments_lexer": "ipython3",
   "version": "3.8.12"
  },
  "toc": {
   "base_numbering": 1,
   "nav_menu": {},
   "number_sections": true,
   "sideBar": true,
   "skip_h1_title": false,
   "title_cell": "Table of Contents",
   "title_sidebar": "Contents",
   "toc_cell": false,
   "toc_position": {},
   "toc_section_display": true,
   "toc_window_display": false
  }
 },
 "nbformat": 4,
 "nbformat_minor": 5
}
